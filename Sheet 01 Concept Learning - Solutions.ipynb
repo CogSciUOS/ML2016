{
 "cells": [
  {
   "cell_type": "markdown",
   "metadata": {},
   "source": [
    "Osnabrück University - Machine Learning (Summer Term 2016) - Prof. Dr.-Ing. G. Heidemann, Ulf Krumnack, PhD"
   ]
  },
  {
   "cell_type": "markdown",
   "metadata": {},
   "source": [
    "# Exercise Sheet 01: Concept Learning - Solutions"
   ]
  },
  {
   "cell_type": "markdown",
   "metadata": {},
   "source": [
    "## Introduction\n",
    "\n",
    "This is the first exercise sheet of many (12 in total) to follow. The homework sheets will usually be available on Tuesdays and are supposed to be solved in groups of three. They have to be handed in before Monday morning of the following week. The exercises are then presented to your tutor in a small feedback session. To acquire the admission for the final exam, you will have to pass $N-2$ of the weekly provided exercise sheets.\n",
    "\n",
    "Sign up for a group on Stud.IP (See `Participants` -> `Functions/Groups`). The times mentioned there are the times for the feedback session of your group. If none of them fits, send any of the tutors an e-mail so we can try to arrange something. \n",
    "\n",
    "Your group will have a group folder in Stud.IP under `Documents`. Upload your solutions there to hand them in.\n",
    "\n",
    "All exercise sheets will use [Jupyter Notebooks](http://jupyter-notebook.readthedocs.org/en/latest/notebook.html). To be able to run these on your system, you will need to install Python and a few packages. We suggest you to use the latest version of Python 3. In case you are not familiar with it, follow the directives below ([Exersice 0a)](#a%29-Install-Python)) to get it up and running. [Exersice 0b)](#b%29-Run-Jupyter-Notebooks) on this sheet will provide details on how to run the notebooks with Jupyter.\n",
    "\n",
    "We will offer an open help session if you need help with installing and getting things to run: On **Thursday, April 14, 2016 between 12:30 and 16:00** you will find some tutors in **93/E42** who try to help you.\n"
   ]
  },
  {
   "cell_type": "markdown",
   "metadata": {},
   "source": [
    "## Assignment 0: Setup your homework environment\n",
    "\n",
    "### a) Install Python\n",
    "\n",
    "To be able to run Jupyter Notebooks you will need Python. Follow this exercise to get everything up and running.\n",
    "\n",
    "#### UNIX (e.g. Ubuntu)\n",
    "The following commands will install Python and the components required to build some of the packages we will use.\n",
    "```sh\n",
    "sudo apt-get install build-essential python3-dev python3\n",
    "pip3 install --upgrade pip\n",
    "pip3 install jupyter numpy matplotlib\n",
    "```\n",
    "\n",
    "#### MacOS\n",
    "\n",
    "We recommend using [homebrew](http://google.com) to install Python.\n",
    "```sh\n",
    "ruby -e \"$(curl -fsSL https://raw.githubusercontent.com/Homebrew/install/master/install)\"\n",
    "brew install python3\n",
    "pip3 install --upgrade pip\n",
    "pip3 install jupyter numpy matplotlib\n",
    "```\n",
    "\n",
    "#### Windows\n",
    "\n",
    "On Windows the installation is a bit tricky, as most components can not easily be downloaded and installed via pip. However, there is a nice website[(http://www.lfd.uci.edu/~gohlke/pythonlibs/)](http://www.lfd.uci.edu/~gohlke/pythonlibs/) offering precompiled components.\n",
    "\n",
    "1. Go to [https://www.python.org/downloads/windows/](https://www.python.org/downloads/windows/) and download the _Latest Python 3 Release_.\n",
    "2. Download the following files from [http://www.lfd.uci.edu/~gohlke/pythonlibs/](http://www.lfd.uci.edu/~gohlke/pythonlibs/):\n",
    "    * [jupyter_core-4.1.0-py2.py3-none-any.whl](http://www.lfd.uci.edu/~gohlke/pythonlibs/#jupyter)\n",
    "    * [numpy-1.11.0+mkl-cp35-cp35m-win32.whl](http://www.lfd.uci.edu/~gohlke/pythonlibs/#numpy) - if this does not work in step 6, try `numpy-1.11.0+mkl-cp35-cp35m-win_amd64.whl`\n",
    "    * [matplotlib-1.5.1-cp35-none-win32.whl](http://www.lfd.uci.edu/~gohlke/pythonlibs/#matplotlib) - if this does not work in step 6, try `matplotlib-1.5.1-cp35-none-win_amd64.whl`\n",
    "3. Copy all downloaded files to `C:\\Python35\\Lib\\site-packages`.\n",
    "4. Open the command prompt (START -> cmd.exe).\n",
    "5. Navigate to the directory: `cd C:\\Python35\\Lib\\site-packages`.\n",
    "6. Execute the following command: `C:\\Python35\\Scripts\\pip.exe install *.whl`."
   ]
  },
  {
   "cell_type": "markdown",
   "metadata": {
    "collapsed": true
   },
   "source": [
    "### b) Run Jupyter Notebooks\n",
    "\n",
    "After you installed Python and Jupyter verify you are able to run the notebook server by opening your command line, navigate to the directory where you downloaded the `Sheet 01 Concept Learning.ipynb` to, e.g. `~/university/ML2016` or `C:\\Users\\Documents\\University\\ML2016` and run jupyter in that directory.\n",
    "\n",
    "```sh\n",
    "cd ~/university/ML2016\n",
    "jupyter notebook\n",
    "```\n",
    "\n",
    "Usually a browser window should open up. If not, open your favorite webbrowser and navigate to [localhost:8888/tree](localhost:8888/tree). (In some browsers there is a small display bug with $\\LaTeX$ output: After each equation there will be a trailing `|`. Affected is e.g. Google Chrome.)\n",
    "\n",
    "You will be presented with a list of files, choose `Sheet 01 Concept Learning.ipynb`: You are good to go now and can start working on your homework right away!\n",
    "\n",
    "If you experience any troubles, remember to step by at the help session on Thursday, April 14, use the Stud.IP forum or send us an e-mail - we are always happy to help."
   ]
  },
  {
   "cell_type": "markdown",
   "metadata": {},
   "source": [
    "## Assignment 2: Candidate Elimination (by Hand) [6 Points]\n",
    "\n",
    "Candidate Elimination is a learning algorithm that, in each step, tries to generate a description which is consistent with all previously observed examples in a training set. That description could hypothetically then be used to classify examples outside the training set.\n",
    "\n",
    "Consider the following situation:\n",
    "\n",
    "Earl and Fran have made it their mission to visit as many amusement parks as possible in the coming summer term. However, to maximize their enjoyment and not have any unnecessary arguments break out, they make a list of previous park visits and if they would go there again, to have a few criteria to decide if a park is worth their time.\n",
    "\n",
    "This is the set of attributes along with their possible values Earl and Fran came up with:\n",
    "\n",
    "| Attribute           | driving distance | ticket price      | rollercoasters | dinosaurs |\n",
    "|---------------------|------------------|-------------------|----------------|-----------|\n",
    "| **Possible Values** | short / far      | cheap / expensive | many / none    | yes / no  |\n",
    "\n",
    "This is Earl and Fran's accumulated data from previous visits. The list will allow you to come to a learning decision which properties have to be fulfilled such that the two will enjoy a visit to an amusement park.\n",
    "\n",
    "| Sample No. | driving distance | ticket price | rollercoasters | dinosaurs | go again? |\n",
    "|------------|------------------|--------------|----------------|-----------|-----------|\n",
    "| 1          | far              | cheap        | many           | no        | yes       |\n",
    "| 2          | short            | expensive    | many           | no        | yes       |\n",
    "| 3          | far              | expensive    | none           | yes       | no        |\n",
    "| 4          | short            | cheap        | none           | yes       | no        |\n",
    "| 5          | short            | cheap        | many           | yes       | yes       |"
   ]
  },
  {
   "cell_type": "markdown",
   "metadata": {},
   "source": [
    "### a)\n",
    "Apply Candidate Elimination to the samples 1-5 below and provide the version space boundaries $S_n$ and $G_n$ after each new training sample.  "
   ]
  },
  {
   "cell_type": "markdown",
   "metadata": {},
   "source": [
    "$G_0 = \\{<?, ?, ?, ?>\\} \\quad S_0 = \\{<\\emptyset, \\emptyset, \\emptyset, \\emptyset>\\}$\n",
    "\n",
    "Insert sample 1: `(far, cheap, many, no) = yes`\n",
    "\n",
    "$G_1 = \\{<?, ?, ?, ?>\\} \\quad S_1 = \\{<far, cheap, many, no>\\}$\n",
    "\n",
    "Insert sample 2: `(short, expensive, many, no) = yes`\n",
    "\n",
    "$G_2 = \\{<?, ?, ?, ?>\\} \\quad S_2 = \\{<?, ?, many, no>\\}$\n",
    "\n",
    "Insert sample 3: `(far, expensive, none, yes) = no`\n",
    "\n",
    "$G_3 = \\{<?, ?, many, ?>, <?, ?, ?, no>\\} \\quad S_3 = \\{<?, ?, many, no>\\}$\n",
    "\n",
    "Insert sample 4: `(short, cheap, none, yes) = no`\n",
    "\n",
    "$G_4 = \\{<?, ?, many, ?>, <?, ?, ?, no>\\} \\quad S_4 = \\{<?, ?, many, no>\\}$\n",
    "\n",
    "Insert sample 5: `(short, cheap, many, yes) = no`\n",
    "\n",
    "$G_5 = \\{<?, ?, many, ?>\\} \\quad S_5 = \\{<?, ?, many, ?>\\}$"
   ]
  },
  {
   "cell_type": "markdown",
   "metadata": {},
   "source": [
    "### b) \n",
    "Provide the complete version space bounded by $S_2$ and $G_2$."
   ]
  },
  {
   "cell_type": "markdown",
   "metadata": {},
   "source": [
    "$G_2 = \\{<?, ?, ?, ?>\\}$\n",
    "\n",
    "$<?, ?, many, ?> \\quad <?, ?, ?, no>$\n",
    "\n",
    "$S_2 = \\{<?, ?, many, no>\\}$"
   ]
  },
  {
   "cell_type": "markdown",
   "metadata": {},
   "source": [
    "### c) \n",
    "To what kind of amusement park should Earl and Fran go?"
   ]
  },
  {
   "cell_type": "markdown",
   "metadata": {},
   "source": [
    "Earl and Fran should choose amusement parks with rollercoasters."
   ]
  },
  {
   "cell_type": "markdown",
   "metadata": {},
   "source": [
    "## Assignment 3: Candidate Elimination (in Python) [10 Points]"
   ]
  },
  {
   "cell_type": "code",
   "execution_count": 14,
   "metadata": {
    "collapsed": false
   },
   "outputs": [
    {
     "name": "stdout",
     "output_type": "stream",
     "text": [
      "G: [('?', '?', '?', '?')]\n",
      "S: [(None, None, None, None)]\n"
     ]
    }
   ],
   "source": [
    "G = [('?', '?', '?', '?')]\n",
    "S = [(None, None, None, None)]\n",
    "\n",
    "D = [ \n",
    "    {'sample': ('far',   'cheap',     'many', 'no' ), 'positive': True },\n",
    "    {'sample': ('short', 'expensive', 'many', 'no' ), 'positive': True },\n",
    "    {'sample': ('far',   'expensive', 'none', 'yes'), 'positive': False},\n",
    "    {'sample': ('short', 'cheap',     'none', 'yes'), 'positive': True },\n",
    "    {'sample': ('short', 'cheap',     'many', 'yes'), 'positive': False}\n",
    "]\n",
    "\n",
    "# TODO\n",
    "\n",
    "print(\"G: {}\".format(G))\n",
    "print(\"S: {}\".format(S))"
   ]
  },
  {
   "cell_type": "markdown",
   "metadata": {
    "collapsed": true
   },
   "source": [
    "## Assignment 4: Inductive Bias [4 Points]"
   ]
  },
  {
   "cell_type": "markdown",
   "metadata": {},
   "source": [
    "### a) \n",
    "What is an inductive bias? Describe in your own words!"
   ]
  },
  {
   "cell_type": "markdown",
   "metadata": {},
   "source": [
    "The inductive bias of a machine learning algorithm is the set of assumptions that must be added to the observed data to get a logical deduction from them.\n",
    "That means that it is some preference of the algorithm for a specific set of hypotheses based on a set of training observations."
   ]
  },
  {
   "cell_type": "markdown",
   "metadata": {},
   "source": [
    "### b)\n",
    "Which of the learning algorithms you heard about in the lecture (Candidate Elimination and Find-S) has the stronger bias?"
   ]
  },
  {
   "cell_type": "markdown",
   "metadata": {},
   "source": [
    "The inductive bias of the Candidate Elimination algorithm is the assumption that the target concept is contained in the given hypothesis space.\n",
    "\n",
    "The inductive bias of the Find-S Algorithm is that it views all instances as negative instances unless the opposite is entailed by its other knowledge. This has a really big impact as negative exampes are ignored completely.\n",
    "\n",
    "This means Find-S has the stronger bias."
   ]
  }
 ],
 "metadata": {
  "kernelspec": {
   "display_name": "Python 3",
   "language": "python",
   "name": "python3"
  },
  "language_info": {
   "codemirror_mode": {
    "name": "ipython",
    "version": 3
   },
   "file_extension": ".py",
   "mimetype": "text/x-python",
   "name": "python",
   "nbconvert_exporter": "python",
   "pygments_lexer": "ipython3",
   "version": "3.5.1"
  }
 },
 "nbformat": 4,
 "nbformat_minor": 0
}
