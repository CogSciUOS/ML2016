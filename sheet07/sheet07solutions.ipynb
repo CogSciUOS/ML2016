{
 "cells": [
  {
   "cell_type": "markdown",
   "metadata": {},
   "source": [
    "Osnabrück University - Machine Learning (Summer Term 2016) - Prof. Dr.-Ing. G. Heidemann, Ulf Krumnack"
   ]
  },
  {
   "cell_type": "markdown",
   "metadata": {},
   "source": [
    "# Exercise Sheet 07"
   ]
  },
  {
   "cell_type": "markdown",
   "metadata": {},
   "source": [
    "## Introduction\n",
    "\n",
    "This week's sheet should be solved and handed in before the end of **Sunday, June 05, 2016**. If you need help (and Google and other resources were not enough), feel free to contact your groups designated tutor or whomever of us you run into first. Please upload your results to your group's studip folder."
   ]
  },
  {
   "cell_type": "markdown",
   "metadata": {},
   "source": [
    "## Assignment 1: Perceptron Theory (x Points)"
   ]
  },
  {
   "cell_type": "markdown",
   "metadata": {},
   "source": [
    "## Assignment 2: Multilayer Perceptron (x Points)"
   ]
  },
  {
   "cell_type": "markdown",
   "metadata": {},
   "source": [
    "## Assignment : Sigmoid activation function & backpropagation delta funtion [ Points]"
   ]
  },
  {
   "cell_type": "markdown",
   "metadata": {},
   "source": [
    "In this exercise we are first going to take the derivative of a famous activation function - the sigmoid function\n",
    "$$\\sigma(t)=\\frac{1}{1+e^{-t}}$$.\n",
    "This function is commonly used because of its nice analytical properties: it's $\\in[0,1]$, non-linear, strictly monotonous, continuous, differentiable and the derivative can be expressed in terms of the original function at the given point. This allows us to avoid redundant calculations. The sigmoid function is a special case of the more general *Logistic function}* which can be found in many different fields: Biology, chemistry, economics, demography and recently most prominently: Artificial Neural Networks."
   ]
  },
  {
   "cell_type": "markdown",
   "metadata": {},
   "source": [
    "Take the derivative $\\frac{d\\sigma}{dt}$ and (if possible) write the resulting expression in terms of $\\sigma(t)$:"
   ]
  },
  {
   "cell_type": "markdown",
   "metadata": {},
   "source": [
    "$$\\begin{align}\n",
    "\\frac{d\\sigma}{dt}&=-e^{-t}*(-1)*\\frac{1}{(1+e^{-t})^2}\\\\\n",
    "&= \\frac{1}{1+e^{-t}} * \\frac{- 1 + 1 + e^{-t}}{1+e^{-t}} \\\\\n",
    "&= \\frac{1}{1+e^{-t}} * \\left(1 - \\frac{1}{1+e^{-t}}\\right) \\\\\n",
    "&= \\sigma(t)(1-\\sigma(t))\n",
    "\\end{align}$$"
   ]
  },
  {
   "cell_type": "markdown",
   "metadata": {},
   "source": [
    "MLPs can be regarded as a simple concatenation (and paralellization) of several perceptrons which each have a specified activation function $\\sigma$ and a set of weights $\\mathbf{w}_{ij}$. The idea that this can be done was discovered rather early on after the invention of the perceptron but people didn't really use it in practice that much because nobody really knew how to figure out the appropriate $\\mathbf{w}_{ij}$. The solution to this problem was the discovery of the backpropagation algorithm that consists of two steps: first propagating the input forward through the layers of the MLP and storing the intermediate results and then propagating the error backwards and adjusting the weights of the units accordingly.\n",
    "\n",
    "An updating rule for the output layer can be derived rather straightforward so we're going to let you do that. The rules for the intermediate layers can be derived very similarly and only require a slight shift in perspective - the mathematics for that are however not in the standard toolkit so we are going to omit the calculations and refer you to the lecture slides."
   ]
  },
  {
   "cell_type": "markdown",
   "metadata": {},
   "source": [
    "We take the least-squares approach to derive the updating rule, i.e. we want to minimize the Loss function\n",
    "$$L = \\frac{1}{2}(y-t)^2$$\n",
    "where t is the given (true) label from the dataset and y is the (single) output produced by the MLP. To find the weights that minimize this expression we want to take the derivative of $L$ w.r.t. $\\mathbf{w}_{i}$ where we are now going to assume that the $\\mathbf{w}_{i}$ are the ones directly before the output layer:\n",
    "$$y = \\sigma\\left(\\sum_{k=1}^n \\mathbf{w}_{k}o_k\\right)$$\n",
    "Calculate $\\frac{dL}{d\\mathbf{w}_{i}}$.\n",
    "\n",
    "*Hint (This might only be helpful for some): $\\frac{dL}{d\\mathbf{w}_{i}}=\\frac{dL}{dy}\\frac{dy}{d\\mathbf{w}_{i}}$*"
   ]
  },
  {
   "cell_type": "markdown",
   "metadata": {},
   "source": [
    "$$\\begin{align}\n",
    "\\frac{dL}{d\\mathbf{w}_{i}}&=\\frac{dL}{dy}\\frac{dy}{d\\mathbf{w}_{i}}\\\\\n",
    "&=(y-t)o_i\\sigma\\left(\\sum_{k=1}^n \\mathbf{w}_{k}o_k\\right)\\left(1-\\sigma\\left(\\sum_{k=1}^n \\mathbf{w}_{k}o_k\\right)\\right)\\\\\n",
    "&= (y-t)o_iy\\left(1-y\\right)\\\\\n",
    "\\end{align}$$"
   ]
  }
 ],
 "metadata": {
  "kernelspec": {
   "display_name": "Python 3",
   "language": "python",
   "name": "python3"
  },
  "language_info": {
   "codemirror_mode": {
    "name": "ipython",
    "version": 3
   },
   "file_extension": ".py",
   "mimetype": "text/x-python",
   "name": "python",
   "nbconvert_exporter": "python",
   "pygments_lexer": "ipython3",
   "version": "3.5.1"
  }
 },
 "nbformat": 4,
 "nbformat_minor": 0
}
