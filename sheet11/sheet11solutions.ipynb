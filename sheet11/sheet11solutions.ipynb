{
 "cells": [
  {
   "cell_type": "markdown",
   "metadata": {},
   "source": [
    "Osnabrück University - Machine Learning (Summer Term 2016) - Prof. Dr.-Ing. G. Heidemann, Ulf Krumnack"
   ]
  },
  {
   "cell_type": "markdown",
   "metadata": {},
   "source": [
    "# Exercise Sheet 11"
   ]
  },
  {
   "cell_type": "markdown",
   "metadata": {},
   "source": [
    "## Introduction\n",
    "\n",
    "This week's sheet is intended to revise the topics from the lecture. It does not need to be solved in order to qualify for the final exam but it is highly recommended for preparation. If you would like to discuss your solutions with your tutor please upload your sheet to your group's Stud.IP folder before the end of **Sunday, July 3, 2016**. Also if you hit any question that should be discussed in more detail, feel free to contact your groups' designated tutor or whomever of us you run into first before that date."
   ]
  },
  {
   "cell_type": "markdown",
   "metadata": {},
   "source": [
    "## Assignment 1: Concept Learning [2 Points]"
   ]
  },
  {
   "cell_type": "markdown",
   "metadata": {},
   "source": [
    "### a) What is Concept Learning? "
   ]
  },
  {
   "cell_type": "raw",
   "metadata": {},
   "source": []
  },
  {
   "cell_type": "markdown",
   "metadata": {},
   "source": [
    "### b) Describe the Find-S Algorithm in pseudo code"
   ]
  },
  {
   "cell_type": "raw",
   "metadata": {},
   "source": []
  },
  {
   "cell_type": "markdown",
   "metadata": {},
   "source": [
    "## Assignment 2: Decision Trees [2 Points]"
   ]
  },
  {
   "cell_type": "markdown",
   "metadata": {},
   "source": []
  },
  {
   "cell_type": "markdown",
   "metadata": {},
   "source": [
    "## Assignment 3: Data Mining [2 Points]"
   ]
  },
  {
   "cell_type": "markdown",
   "metadata": {},
   "source": []
  },
  {
   "cell_type": "markdown",
   "metadata": {},
   "source": [
    "## Assignment 4: Clustering [2 Points]"
   ]
  },
  {
   "cell_type": "markdown",
   "metadata": {},
   "source": []
  },
  {
   "cell_type": "markdown",
   "metadata": {},
   "source": [
    "## Assignment 5: Dimension Reduction [2 Points]"
   ]
  },
  {
   "cell_type": "markdown",
   "metadata": {},
   "source": []
  },
  {
   "cell_type": "markdown",
   "metadata": {},
   "source": [
    "## Assignment 6: Neural Networks [2 Points]"
   ]
  },
  {
   "cell_type": "markdown",
   "metadata": {},
   "source": [
    "### a) \n",
    "\n",
    "Name three different kinds of Artificial Neural Networks discussed in the lecture."
   ]
  },
  {
   "cell_type": "raw",
   "metadata": {},
   "source": [
    "- Multilayer Perceptron\n",
    "- Radial Basis Function Networks\n",
    "- Self-Organizing Maps"
   ]
  },
  {
   "cell_type": "markdown",
   "metadata": {},
   "source": [
    "### b) \n",
    "\n",
    "Which of the following formulae describes the backpropagation of the error through hidden layers in a Multilayer Perceptron?\n",
    "Assume they are calculated for each $k=L_H \\dots 1$ and $i=1\\dots N(k)$."
   ]
  },
  {
   "cell_type": "markdown",
   "metadata": {},
   "source": [
    "1. $\\delta_i(k) = f^\\prime(o_i(k-1)) \\sum\\limits_{j=1}^{N(k+1)} w_{ji}(k+1, k)o_i(k)$\n",
    "2. $\\delta_i(k) = f^\\prime(o_i(k-1)) \\sum\\limits_{j=1}^{N(k+1)} w_{ji}(k+1, k)\\delta_i(k+1)$\n",
    "3. $\\delta_i(k) = f^\\prime(o_i(k-1)) \\sum\\limits_{j=1}^{N(k+1)} w_{ji}(k, k-1)\\delta_i(k+1)$"
   ]
  },
  {
   "cell_type": "raw",
   "metadata": {},
   "source": [
    "Formula 1 uses the output instead of the deltas.\n",
    "Formula 2 is correct. \n",
    "Formula 3 uses the wrong weights."
   ]
  },
  {
   "cell_type": "markdown",
   "metadata": {},
   "source": [
    "## Assignment 7: Local Methods [2 Points]"
   ]
  },
  {
   "cell_type": "markdown",
   "metadata": {},
   "source": [
    "### a)\n",
    "\n",
    "What are differences between local and global methods? What are advantages or disadvantages?"
   ]
  },
  {
   "cell_type": "raw",
   "metadata": {},
   "source": []
  },
  {
   "cell_type": "markdown",
   "metadata": {},
   "source": [
    "### b)\n",
    "\n",
    "Is an MLP or are RBFN local methods? Why?"
   ]
  },
  {
   "cell_type": "raw",
   "metadata": {},
   "source": [
    "RBFN are local methods as each hidden neuron has a local area of responsibility."
   ]
  },
  {
   "cell_type": "markdown",
   "metadata": {},
   "source": [
    "## Assignment 8: Classification [2 Points]"
   ]
  },
  {
   "cell_type": "markdown",
   "metadata": {},
   "source": [
    "### a) \n",
    "\n",
    "What is a classifier?"
   ]
  },
  {
   "cell_type": "raw",
   "metadata": {},
   "source": [
    "A classifier assigns a class to an entity based on its attributes.\n",
    "Attributes might be color, height, weight, shape, ...\n",
    "Classes might be car, house, person, banana, yes, ..."
   ]
  },
  {
   "cell_type": "markdown",
   "metadata": {},
   "source": [
    "### b)\n",
    "\n",
    "Name three different classifiers and compare them. Think about biases and assumptions, separatrices, sensitivity, locality, parameters and speed. "
   ]
  },
  {
   "cell_type": "markdown",
   "metadata": {},
   "source": [
    "*Usually assuming 0 mean and only binary problems!*\n",
    "\n",
    "| Classifier           | Biases and Assumptions | Separatrices | Sensitivity | Locality | Parameters | Speed |\n",
    "|----------------------|------------------------|--------------|-------------|----------|------------|-------|\n",
    "| Euclidean classifier | ? | linear | sensitive to far outliers | global | none | very fast |\n",
    "| Linear discriminant analysis | central limit theorem | linear | sensitive to far outliers | global | none | very fast |\n",
    "| Quadratic classifier | ? | conic: e.g. hyperbola, parabola, ellipsis, line | sensitive to outliers | global | none | fast |\n",
    "| Polynom classifier | ? | almost arbitrary | overfitting for high degrees | global | polynomial degree | fast |\n",
    "| Nearest neighbor classifier  | ? | implicit: neighbors | distance function | local | ? | $\\mathcal{O}(N^2)$ |\n",
    "| SVM | mercer's condition | high dimensional hyperplane, nonlinear in data space | ? | global | input mapping, ? | efficient |\n",
    "| MLP (not binary) | ? | almost arbitrary | noise sensitive | global | activation functions, learning rate | slow |\n",
    "| RBFN (not binary) | locality in data/clusters | ellipses/circular | robust to noise | local | regions of responsibility, activation functions (output layer), learning rate | comparably slow |"
   ]
  },
  {
   "cell_type": "markdown",
   "metadata": {},
   "source": [
    "## Assignment 9: Reinforcement Learning [2 Points]"
   ]
  },
  {
   "cell_type": "markdown",
   "metadata": {},
   "source": [
    "### a)\n",
    "\n",
    "What is an agent in terms of reinforcement learning? Name an example of an agent."
   ]
  },
  {
   "cell_type": "raw",
   "metadata": {},
   "source": [
    "An agent has sensors and can perform actions in a specified environment. (See PEAS: Performance, Environment, Actuators, Sensors)\n",
    "\n",
    "Some possible agents are: mobile robots or game AI"
   ]
  },
  {
   "cell_type": "markdown",
   "metadata": {},
   "source": [
    "### b)\n",
    "\n",
    "What is the Markov assumption?"
   ]
  },
  {
   "cell_type": "markdown",
   "metadata": {},
   "source": [
    "State $s_{t+1}$ only depends on its predecessor state $s_t$ and the action $a_t$ performed then, i.e.: $s_{t+1} = \\delta(s_t, a_t)$."
   ]
  },
  {
   "cell_type": "markdown",
   "metadata": {},
   "source": [
    "## Assignment 10: Modeling Uncertainty [2 Points]"
   ]
  },
  {
   "cell_type": "markdown",
   "metadata": {},
   "source": [
    "### a) \n",
    "\n",
    "Why do we need to model uncertainties?"
   ]
  },
  {
   "cell_type": "raw",
   "metadata": {},
   "source": [
    "- sparse data\n",
    "- unreliable data (noise)\n",
    "- uncertain outcomes\n",
    "- high complexities"
   ]
  },
  {
   "cell_type": "markdown",
   "metadata": {
    "collapsed": true
   },
   "source": [
    "### b) \n",
    "\n",
    "Given the following table, calculate the probability of drawing a blue candy blindly (assume the bags are chosen equally likely). Then calculate the probability that our drawn blue candy was drawn from the red bag.\n",
    "\n",
    "|                | blue candies | green candies |\n",
    "|----------------|--------------|---------------|\n",
    "| **red bag**    |            5 |            10 |\n",
    "| **yellow bag** |           20 |            10 |"
   ]
  },
  {
   "cell_type": "markdown",
   "metadata": {},
   "source": [
    "$$P(C=b) = \\frac{1}{2} \\left( \\frac{5}{15} + \\frac{20}{30} \\right) = \\frac{1}{2}$$\n",
    "$$P(B=r|C=b) = \\frac{P(C=b|B=r)P(B=r)}{P(C=b)} = \\frac{ \\frac{5}{15} \\frac{1}{2} }{ \\frac{1}{2} } = \\frac{5}{15} = \\frac{1}{3}$$"
   ]
  }
 ],
 "metadata": {
  "kernelspec": {
   "display_name": "Python 3",
   "language": "python",
   "name": "python3"
  },
  "language_info": {
   "codemirror_mode": {
    "name": "ipython",
    "version": 3
   },
   "file_extension": ".py",
   "mimetype": "text/x-python",
   "name": "python",
   "nbconvert_exporter": "python",
   "pygments_lexer": "ipython3",
   "version": "3.5.1"
  }
 },
 "nbformat": 4,
 "nbformat_minor": 0
}
