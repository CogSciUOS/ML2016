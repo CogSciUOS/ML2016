{
 "cells": [
  {
   "cell_type": "markdown",
   "metadata": {},
   "source": [
    "Osnabrück University - Machine Learning (Summer Term 2016) - Prof. Dr.-Ing. G. Heidemann, Ulf Krumnack"
   ]
  },
  {
   "cell_type": "markdown",
   "metadata": {},
   "source": [
    "# Exercise Sheet 04: Clustering"
   ]
  },
  {
   "cell_type": "markdown",
   "metadata": {},
   "source": [
    "## Introduction\n",
    "\n",
    "This week's sheet should be solved and handed in before the end of **Sunday, May 8, 2016**. If you need help (and Google and other resources were not enough), feel free to contact your groups designated tutor or whomever of us you run into first. Please upload your results to your group's studip folder."
   ]
  },
  {
   "cell_type": "markdown",
   "metadata": {},
   "source": [
    "## Assignment 0.5: Distance Measures\n",
    "\n",
    "Implement the four different kinds of distance measurements for clusters. Each function takes two clusters (each a $n \\times 2$ numpy array) and should return a single scalar. In the following use always the euclidean distance!"
   ]
  },
  {
   "cell_type": "code",
   "execution_count": null,
   "metadata": {
    "collapsed": false
   },
   "outputs": [],
   "source": [
    "import numpy as np\n",
    "\n",
    "def d_min(X, Y):\n",
    "    \"\"\"\n",
    "    Minimal distance between points of two clusters.\n",
    "    X and Y are expected to be numpy arrays.\n",
    "    \"\"\"\n",
    "    min_dist = float('inf')\n",
    "    for x in np.array(X):\n",
    "        for y in np.array(Y):\n",
    "            dist_yx = np.sqrt(sum((x-y)**2))\n",
    "            if dist_yx < min_dist:\n",
    "                min_dist = dist_yx\n",
    "    \n",
    "    # Shorter solution using scipy (for future reference):\n",
    "    # min_dist = np.min(scipy.spatial.distance.cdist(X,Y))\n",
    "    return min_dist\n",
    "\n",
    "\n",
    "X = np.array([[1,2,3],[4,5,6],[6,7,8]])\n",
    "Y = np.array([[9,10,11],[12,13,14],[15,16,17]])\n",
    "assert d_min(X,Y) == d_min(Y,X)\n",
    "assert round(d_min(X,Y)) == 5.0\n",
    "del X, Y # don't pollute global namespace"
   ]
  },
  {
   "cell_type": "code",
   "execution_count": null,
   "metadata": {
    "collapsed": true
   },
   "outputs": [],
   "source": [
    "def d_max(X, Y):\n",
    "    \"\"\"\n",
    "    Maximal distance between points of two clusters.\n",
    "    X and Y are expected to be numpy arrays.\n",
    "    \"\"\"\n",
    "    max_dist = 0\n",
    "    for x in np.array(X):\n",
    "        for y in np.array(Y):      \n",
    "            dist_yx = np.sqrt(sum((x-y)**2))\n",
    "            if dist_yx > max_dist:\n",
    "                max_dist = dist_yx\n",
    "    \n",
    "    # Shorter solution using scipy (for future reference):\n",
    "    # max_dist = np.max(scipy.spatial.distance.cdist(X,Y))\n",
    "    return max_dist\n",
    "\n",
    "\n",
    "X = np.array([[1,2,3],[4,5,6],[6,7,8]])\n",
    "Y = np.array([[9,10,11],[12,13,14],[15,16,17]])\n",
    "assert d_max(X,Y) == d_max(Y,X)\n",
    "assert round(d_max(X,[0]*len(X))) == 12.0\n",
    "assert round(d_max(X,Y)) == 24.0\n",
    "del X, Y"
   ]
  },
  {
   "cell_type": "code",
   "execution_count": null,
   "metadata": {
    "collapsed": false
   },
   "outputs": [],
   "source": [
    "def d_mean(X, Y):\n",
    "    \"\"\"\n",
    "    Mean distance between points of two clusters.\n",
    "    X and Y are expected to be numpy arrays.\n",
    "    \"\"\"\n",
    "    mean_dist = 0\n",
    "    for x in np.array(X):\n",
    "        for y in np.array(Y):\n",
    "            #calculate distance from y to x        \n",
    "            dist_yx = np.sqrt(sum((x-y)**2))\n",
    "            mean_dist = mean_dist + dist_yx\n",
    "            \n",
    "    return mean_dist/(len(X)*len(Y))\n",
    "\n",
    "\n",
    "X = np.array([[1,2,3],[4,5,6],[6,7,8]])\n",
    "Y = np.array([[9,10,11],[12,13,14],[15,16,17]])\n",
    "assert d_mean(X,Y) == d_mean(Y,X)\n",
    "assert round(d_mean(X,Y)) == 14.0\n",
    "del X, Y"
   ]
  },
  {
   "cell_type": "code",
   "execution_count": null,
   "metadata": {
    "collapsed": true
   },
   "outputs": [],
   "source": [
    "def d_centroid(X, Y):\n",
    "    \"\"\"\n",
    "    Distance between the centroids of two clusters.\n",
    "    X and Y are expected to be numpy arrays.\n",
    "    \"\"\"\n",
    "    cent_X = sum(X)/len(X)\n",
    "    cent_Y = sum(Y)/len(Y)\n",
    "    return np.sqrt(sum((cent_X-cent_Y)**2))\n",
    "\n",
    "\n",
    "X = np.array([[1,2,3],[4,5,6],[6,7,8]])\n",
    "Y = np.array([[9,10,11],[12,13,14],[15,16,17]])\n",
    "assert d_centroid(X,Y) == d_centroid(Y,X)\n",
    "assert round(d_centroid(X,Y)) == 14.0\n",
    "assert d_mean(X,Y) == d_centroid(Y,X)\n",
    "del X, Y"
   ]
  },
  {
   "cell_type": "markdown",
   "metadata": {},
   "source": [
    "## Assignment 1: Hierarchical Clustering\n",
    "\n",
    "Implement single and complete linkage agglomarative clustering. Stop clustering when 5 clusters are found. Plot the results in a colorful scatter plot for each method."
   ]
  },
  {
   "cell_type": "code",
   "execution_count": null,
   "metadata": {
    "collapsed": true
   },
   "outputs": [],
   "source": [
    "def single_linkage(data):\n",
    "    return"
   ]
  },
  {
   "cell_type": "code",
   "execution_count": null,
   "metadata": {
    "collapsed": true
   },
   "outputs": [],
   "source": [
    "def complete_linkage(data):\n",
    "    return"
   ]
  },
  {
   "cell_type": "markdown",
   "metadata": {},
   "source": [
    "Play around with using different distance measures. Describe the different results."
   ]
  },
  {
   "cell_type": "markdown",
   "metadata": {},
   "source": [
    "## Assignment 2: k-means Clustering\n",
    "Implement kmeans clustering. Plot the results for $k = 5$ and $k = 3$ in colorful scatter plots."
   ]
  },
  {
   "cell_type": "code",
   "execution_count": null,
   "metadata": {
    "collapsed": true
   },
   "outputs": [],
   "source": [
    "def kmeans(data, k):\n",
    "    \"\"\"\n",
    "    Applies kmeans clustering to the data (numpy array of size n*2) using k initial clusters.\n",
    "    \"\"\""
   ]
  },
  {
   "cell_type": "markdown",
   "metadata": {},
   "source": [
    "How could one handle situations when one or more clusters end up containing 0 elements?"
   ]
  },
  {
   "cell_type": "markdown",
   "metadata": {},
   "source": [
    "Apply kmeans clustering to the following image and describe (and plot) the results when using different values for $k$."
   ]
  }
 ],
 "metadata": {
  "kernelspec": {
   "display_name": "Python 3",
   "language": "python",
   "name": "python3"
  },
  "language_info": {
   "codemirror_mode": {
    "name": "ipython",
    "version": 3
   },
   "file_extension": ".py",
   "mimetype": "text/x-python",
   "name": "python",
   "nbconvert_exporter": "python",
   "pygments_lexer": "ipython3",
   "version": "3.5.1"
  }
 },
 "nbformat": 4,
 "nbformat_minor": 0
}
