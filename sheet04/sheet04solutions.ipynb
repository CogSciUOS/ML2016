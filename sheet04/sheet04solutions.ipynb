{
 "cells": [
  {
   "cell_type": "markdown",
   "metadata": {},
   "source": [
    "Osnabrück University - Machine Learning (Summer Term 2016) - Prof. Dr.-Ing. G. Heidemann, Ulf Krumnack"
   ]
  },
  {
   "cell_type": "markdown",
   "metadata": {},
   "source": [
    "# Exercise Sheet 04: Clustering"
   ]
  },
  {
   "cell_type": "markdown",
   "metadata": {},
   "source": [
    "## Introduction\n",
    "\n",
    "This week's sheet should be solved and handed in before the end of **Sunday, May 8, 2016**. If you need help (and Google and other resources were not enough), feel free to contact your groups designated tutor or whomever of us you run into first. Please upload your results to your group's studip folder."
   ]
  },
  {
   "cell_type": "markdown",
   "metadata": {},
   "source": [
    "### SciPy\n",
    "\n",
    "From now on you will sometimes need the python package [scipy](https://pypi.python.org/pypi/scipy). To check if you already have a running version installed, run the following cell. If the output is `scipy not found` follow the instructions below to install it. Otherwise just skip the following paragraphs and continue with the assignments."
   ]
  },
  {
   "cell_type": "code",
   "execution_count": null,
   "metadata": {
    "collapsed": false
   },
   "outputs": [],
   "source": [
    "import importlib\n",
    "assert importlib.util.find_spec('scipy') is not None, 'scipy not found'"
   ]
  },
  {
   "cell_type": "markdown",
   "metadata": {},
   "source": [
    "On Unix systems you can easily install it with `pip3 install scipy` from any terminal window. If it fails, try to figure out how to install a Fortran compiler for your OS or ask one of your fellow tutors for help.\n",
    "\n",
    "On Windows it is a little bit more difficult to get a Fortran compiler (although [MinGW](http://www.mingw.org/) offers one it is still very difficult to get everything to run), so we recommend you to take the [precompiled binaries](http://www.lfd.uci.edu/~gohlke/pythonlibs/#scipy) of Christoph Gohlke. If you previously installed a 32bit version of Python download `scipy-0.17.0-cp35-none-win32.whl`, if you have a 64bit version please resort to `scipy-0.17.0-cp35-none-win_amd64.whl`. If you are unsure which version you run, run the following cell to figure it out:"
   ]
  },
  {
   "cell_type": "code",
   "execution_count": null,
   "metadata": {
    "collapsed": false
   },
   "outputs": [],
   "source": [
    "import platform\n",
    "print('You are running a {} ({}) version.'.format(*platform.architecture()))"
   ]
  },
  {
   "cell_type": "markdown",
   "metadata": {},
   "source": [
    "To install the binaries open your command line, navigate to your folder where you downloaded the `*.whl` file to (`cd FOLDER`) and run `pip install scipy-0.17.0-cp35-none-win32.whl` (or `pip install scipy-0.17.0-cp35-none-win_amd64.whl` if you downloaded the 64 bit version). If you run into troubles, get in touch with us!"
   ]
  },
  {
   "cell_type": "markdown",
   "metadata": {},
   "source": [
    "## Assignment 0.5: Distance Measures\n",
    "\n",
    "Implement the four different kinds of distance measurements for clusters. Each function takes two clusters (each a $n \\times 2$ numpy array) and should return a single scalar. In the following use always the euclidean distance!"
   ]
  },
  {
   "cell_type": "code",
   "execution_count": null,
   "metadata": {
    "collapsed": false
   },
   "outputs": [],
   "source": [
    "import numpy as np\n",
    "\n",
    "def d_min(X, Y):\n",
    "    #find minimum distance between all points\n",
    "    min_dist = float('inf')\n",
    "    for x in np.array(X):\n",
    "        for y in np.array(Y):\n",
    "            #calculate distance from y to x        \n",
    "            dist_yx = np.sqrt(sum((x-y)**2))\n",
    "            if dist_yx < min_dist:\n",
    "                min_dist = dist_yx\n",
    "    \n",
    "    #even smaller solution with scipy\n",
    "    #min_dist = np.min(distance.cdist(X,Y))\n",
    "    return min_dist"
   ]
  },
  {
   "cell_type": "code",
   "execution_count": null,
   "metadata": {
    "collapsed": false
   },
   "outputs": [],
   "source": [
    "X = np.array([[1,2,3],[4,5,6],[6,7,8]])\n",
    "Y = np.array([[9,10,11],[12,13,14],[15,16,17]])\n",
    "\n",
    "assert d_min(X,Y) == d_min(Y,X)\n",
    "assert round(d_min(X,Y)) == 5.0"
   ]
  },
  {
   "cell_type": "code",
   "execution_count": null,
   "metadata": {
    "collapsed": true
   },
   "outputs": [],
   "source": [
    "def d_max(X, Y):\n",
    "    #find maximum distance between all points\n",
    "    max_dist = 0\n",
    "    for x in np.array(X):\n",
    "        for y in np.array(Y):\n",
    "            #calculate distance from y to x        \n",
    "            dist_yx = np.sqrt(sum((x-y)**2))\n",
    "            if dist_yx > max_dist:\n",
    "                max_dist = dist_yx\n",
    "    \n",
    "    #even smaller solution with scipy\n",
    "    #max_dist = np.max(distance.cdist(X,Y))\n",
    "    return max_dist"
   ]
  },
  {
   "cell_type": "code",
   "execution_count": null,
   "metadata": {
    "collapsed": false
   },
   "outputs": [],
   "source": [
    "X = np.array([[1,2,3],[4,5,6],[6,7,8]])\n",
    "Y = np.array([[9,10,11],[12,13,14],[15,16,17]])\n",
    "\n",
    "assert d_max(X,Y) == d_max(Y,X)\n",
    "assert round(d_max(X,[0]*len(X))) == 12.0\n",
    "assert round(d_max(X,Y)) == 24.0"
   ]
  },
  {
   "cell_type": "code",
   "execution_count": null,
   "metadata": {
    "collapsed": true
   },
   "outputs": [],
   "source": [
    "def d_mean(X, Y):\n",
    "    #find mean distance between all points\n",
    "    mean_dist = 0\n",
    "    for x in np.array(X):\n",
    "        for y in np.array(Y):\n",
    "            #calculate distance from y to x        \n",
    "            dist_yx = np.sqrt(sum((x-y)**2))\n",
    "            mean_dist = mean_dist + dist_yx\n",
    "            \n",
    "    return mean_dist/(len(X)*len(Y))"
   ]
  },
  {
   "cell_type": "code",
   "execution_count": null,
   "metadata": {
    "collapsed": false
   },
   "outputs": [],
   "source": [
    "X = np.array([[1,2,3],[4,5,6],[6,7,8]])\n",
    "Y = np.array([[9,10,11],[12,13,14],[15,16,17]])\n",
    "\n",
    "assert d_mean(X,Y) == d_centroid(Y,X)\n",
    "assert round(d_mean(X,Y)) == 14.0"
   ]
  },
  {
   "cell_type": "code",
   "execution_count": null,
   "metadata": {
    "collapsed": true
   },
   "outputs": [],
   "source": [
    "def d_centroid(X, Y):\n",
    "    #find the centroids and compute distance\n",
    "    cent_X = sum(X)/len(X)\n",
    "    cent_Y = sum(Y)/len(Y)\n",
    "    \n",
    "    dist_yx = np.sqrt(sum((cent_X-cent_Y)**2))\n",
    "    return dist_yx"
   ]
  },
  {
   "cell_type": "code",
   "execution_count": null,
   "metadata": {
    "collapsed": false
   },
   "outputs": [],
   "source": [
    "X = np.array([[1,2,3],[4,5,6],[6,7,8]])\n",
    "Y = np.array([[9,10,11],[12,13,14],[15,16,17]])\n",
    "\n",
    "assert d_centroid(X,Y) == d_centroid(Y,X)\n",
    "assert round(d_centroid(X,Y)) == 14.0"
   ]
  },
  {
   "cell_type": "markdown",
   "metadata": {},
   "source": [
    "## Assignment 1: Hierarchical Clustering\n",
    "\n",
    "Implement single and complete linkage agglomarative clustering. Stop clustering when 5 clusters are found. Plot the results in a colorful scatter plot for each method."
   ]
  },
  {
   "cell_type": "code",
   "execution_count": null,
   "metadata": {
    "collapsed": true
   },
   "outputs": [],
   "source": [
    "def single_linkage(data):\n",
    "    return"
   ]
  },
  {
   "cell_type": "code",
   "execution_count": null,
   "metadata": {
    "collapsed": true
   },
   "outputs": [],
   "source": [
    "def complete_linkage(data):\n",
    "    return"
   ]
  },
  {
   "cell_type": "markdown",
   "metadata": {},
   "source": [
    "Play around with using different distance measures. Describe the different results."
   ]
  },
  {
   "cell_type": "markdown",
   "metadata": {},
   "source": [
    "## Assignment 2: k-means Clustering\n",
    "Implement kmeans clustering. Plot the results for $k = 5$ and $k = 3$ in colorful scatter plots."
   ]
  },
  {
   "cell_type": "code",
   "execution_count": null,
   "metadata": {
    "collapsed": true
   },
   "outputs": [],
   "source": [
    "def kmeans(data, k):\n",
    "    \"\"\"\n",
    "    Applies kmeans clustering to the data (numpy array of size n*2) using k initial clusters.\n",
    "    \"\"\""
   ]
  },
  {
   "cell_type": "markdown",
   "metadata": {},
   "source": [
    "How could one handle situations when one or more clusters end up containing 0 elements?"
   ]
  },
  {
   "cell_type": "markdown",
   "metadata": {},
   "source": [
    "Apply kmeans clustering to the following image and describe (and plot) the results when using different values for $k$."
   ]
  }
 ],
 "metadata": {
  "kernelspec": {
   "display_name": "Python 3",
   "language": "python",
   "name": "python3"
  },
  "language_info": {
   "codemirror_mode": {
    "name": "ipython",
    "version": 3
   },
   "file_extension": ".py",
   "mimetype": "text/x-python",
   "name": "python",
   "nbconvert_exporter": "python",
   "pygments_lexer": "ipython3",
   "version": "3.5.1"
  }
 },
 "nbformat": 4,
 "nbformat_minor": 0
}
