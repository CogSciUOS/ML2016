{
 "cells": [
  {
   "cell_type": "markdown",
   "metadata": {
    "deletable": true,
    "editable": true
   },
   "source": [
    "Osnabrück University - Machine Learning (Summer Term 2016) - Prof. Dr.-Ing. G. Heidemann, Ulf Krumnack"
   ]
  },
  {
   "cell_type": "markdown",
   "metadata": {
    "deletable": true,
    "editable": true
   },
   "source": [
    "# Exercise Sheet 08"
   ]
  },
  {
   "cell_type": "markdown",
   "metadata": {
    "deletable": true,
    "editable": true
   },
   "source": [
    "## Introduction\n",
    "\n",
    "This week's sheet should be solved and handed in before the end of **Sunday, June 12, 2016**. If you need help (and Google and other resources were not enough), feel free to contact your groups' designated tutor or whomever of us you run into first. Please upload your results to your group's Stud.IP folder."
   ]
  },
  {
   "cell_type": "markdown",
   "metadata": {
    "deletable": true,
    "editable": true
   },
   "source": [
    "## Assignment 1: Multilayer Perceptron (MLP) [10 Points]\n",
    "\n",
    "Last week you implemented a simple perceptron. We discussed that one can use multiple perceptrons to build a network. This week you will build your own MLP. Again the following code cells are just a guideline. If you feel like it, just follow the algorithm steps and implement the MLP yourself."
   ]
  },
  {
   "cell_type": "markdown",
   "metadata": {},
   "source": [
    "### Implementation\n",
    "\n",
    "In the following you will be guided through implementing an MLP step by step. Instead of sticking to this guide, you are free to take a complete custom approach instead if you wish.\n",
    "\n",
    "We will take a bottom-up approach: Starting from an individual **perceptron** (or neruon), we will derive a **layer of perceptrons** and end up with a **multilayer perceptron** (or neural network). Each step will be implemented as its own python *class*. Such a class defines a type of element which can be instantiated multiple times. You can think of the relation between such instances and their designated classes as individuals of a specific population (e.g. Bernard and Bianca are both individuals of the population mice). On the classes methods are defined, which can be used after having instanciated an instance in order to manipulate it or to make it perform a specific action – again, taking the population reference, each mouse of a mice population would for example have the method `eat_cheese`.\n",
    "\n",
    "To guide you along, all required classes and functions are outlined in valid python code with extensive comments. You just need to fill in the gaps. Each comment describes the arguments the specific method accepts (`Args`) and the values it is expected to return (`Returns`)."
   ]
  },
  {
   "cell_type": "markdown",
   "metadata": {
    "deletable": true,
    "editable": true
   },
   "source": [
    "### Perceptron\n",
    "Simillar to last week you here need to implement a perceptron. But instead of applying it directly, we will do so in a class which is reusable for an theoretically infinite amount of perceptrons. For the perceptron you need to implement the following three things:\n",
    "\n",
    "#### Weight initialization\n",
    "\n",
    "The weights are initialized by sampling values from a standard normal distribution. There are as many weights as there are dimensions in the vector – and one more for the bias.\n",
    "\n",
    "#### Forward-Propagation / Activation\n",
    "\n",
    "Calculate the weighted sums of a neuron's inputs and apply it's activation function $\\sigma$. The output vector $o$ of perceptron $j$ of layer $k$ given an input (the output of the previous layer) $x$ in a neural network is given by the following formula. Note: $N$ gives the number of values of a given vector, $w_{j,0}(k)$ specifies the bias of perceptron $j$ in layer $k$ and $w_{j,1...N(x)}(k)$ the other weights of perceptron $j$ in layer $k$.\n",
    "\n",
    "$$\\begin{align*}\n",
    "  o_{k,j}(x) = \\sigma\\left(w_{j,0}(k)+\\sum\\limits_{i=1}^{N(x)} x_i w_{j,i}(k)\\right)\n",
    "\\end{align*}$$\n",
    "with \n",
    "$$\\sigma(x) = \\frac{1}{1 + \\exp{(-x)}}$$\n",
    "\n",
    "Think of weights $w(k)$ as a matrix being located inbetween the layer $k$ and the layer located *to its left* in the network. So values flowing from layer $k-1$ to layer $k$ are weighted by the values of $w(k)$.\n",
    "\n",
    "#### Back-Propagation / Adaptation\n",
    "The perceptron itself does not need to worry about calculating its $\\Delta$ weight adaptation value. Instead, it is provided by the network. Still, the perceptron needs to adjust its weights by the specified delta weighted by a given learning rate:\n",
    "\n",
    "$$\\Delta w_{j,i}(k) = \\epsilon\\, \\delta_j(k+1)\\, o_i(k)$$"
   ]
  },
  {
   "cell_type": "code",
   "execution_count": null,
   "metadata": {
    "collapsed": false,
    "deletable": true,
    "editable": true
   },
   "outputs": [],
   "source": [
    "import numpy as np\n",
    "from scipy.special import expit as sigmoid\n",
    "# sigmoid = lambda x: 1 / (1 + np.exp(-x))\n",
    "\n",
    "\n",
    "class Perceptron:\n",
    "    \"\"\"Single neuron handling its own weights and bias.\"\"\"\n",
    "\n",
    "    def __init__(self, dim_in, act_func=sigmoid):\n",
    "        \"\"\"Initialize a new neuron with its weights and bias.\n",
    "\n",
    "        Args:\n",
    "            dim_in: Dimensionality of the data coming into\n",
    "                this perceptron. In a network of perceptrons\n",
    "                this basically represents the number of neurons\n",
    "                in the layer before this neuron's layer. Used\n",
    "                for generating the perceptron's weights vector,\n",
    "                which not only includes one weight per input but\n",
    "                also an additional bias weight.\n",
    "            act_fun: Function to apply on activation.\n",
    "        \"\"\"\n",
    "        self.act_func = act_func\n",
    "        # self.weights = []  # TODO\n",
    "        self.weights = np.random.normal(size=dim_in + 1)\n",
    "\n",
    "    def activate(self, x):\n",
    "        \"\"\"Activate this neuron with a specific input.\n",
    "\n",
    "        Calculate the weighted sum of inputs and apply the\n",
    "        activation function.\n",
    "\n",
    "        Args:\n",
    "            x: Vector of input values.\n",
    "\n",
    "        Returns:\n",
    "            A real number representing the perceptron's\n",
    "            activation after calculating the weighted sum\n",
    "            of inputs and applying the perceptron's\n",
    "            activation function.\n",
    "        \"\"\"\n",
    "        # return self.act_func(0)  # TODO\n",
    "        return self.act_func(self.weights @ np.append(1, x))\n",
    "\n",
    "    def adapt(self, x, delta, rate=0.03):\n",
    "        \"\"\"Adapt this neuron's weights by a specific delta.\n",
    "\n",
    "        Args:\n",
    "            x: Vector of input values.\n",
    "            delta: Weight adaptation delta value.\n",
    "            rate: Learning rate.\n",
    "        \"\"\"\n",
    "        # self.weights += 0  # TODO\n",
    "        self.weights += rate * delta * np.append(1, x)\n",
    "\n",
    "\n",
    "# TODO (ahoereth): Add asserts testing the perceptron."
   ]
  },
  {
   "cell_type": "markdown",
   "metadata": {
    "deletable": true,
    "editable": true
   },
   "source": [
    "### PerceptronLayer\n",
    "A `PerceptronLayer` is a combination of multiple `Perceptron` instances. It mainly is concerened with passing input and delta values to its individual neurons. There is no math to be done here!\n",
    "\n",
    "#### Initialization\n",
    "\n",
    "When initializing a `PerceptronLayer` like this: `layer = PerceptronLayer(5, 3)`, the `__init__` function is called. It creates a list of `Perceptron`s: For each output dimension there must be one perceptron. Each of those perceptrons has the same input dimensions and activation functions as the perceptron layer.\n",
    "\n",
    "#### Activation\n",
    "\n",
    "During the activation step, the perceptron layer activates each of its perceptrons (loop over them) and stores the results in a new list. This list is `return`ed (this is important, as the MLP needs the values later to calculate the errors and updates).\n",
    "\n",
    "#### Adaptation\n",
    "\n",
    "To adapt its perceptrons, the perceptron layer adapts each with the corresponding delta. For this purpose, the MLP passes a list of input values and a list of deltas to the adaptation function. The inputs are passed to *all* perceptrons. The list of deltas is exactly as long as the list of perceptrons: The first delta is for the first perceptron, the second for the second, etc."
   ]
  },
  {
   "cell_type": "code",
   "execution_count": null,
   "metadata": {
    "collapsed": true,
    "deletable": true,
    "editable": true
   },
   "outputs": [],
   "source": [
    "class PerceptronLayer:\n",
    "    \"\"\"Layer of multiple neurons.\"\"\"\n",
    "\n",
    "    def __init__(self, dim_in, dim_out, act_func=sigmoid):\n",
    "        \"\"\"Initialize the layer as a list of individual neurons.\n",
    "\n",
    "        A layer contains as many neurons as it has outputs, each\n",
    "        neuron has as many input weights (+ bias) as the layer has inputs.\n",
    "        \n",
    "        Args:\n",
    "            dim_in: Dimensionality of the expected input values,\n",
    "                also the size of the previous layer of a neural network.\n",
    "            dim_out: Dimensionality of the output, also the requested \n",
    "                amount of in this layer and the input dimension of the\n",
    "                next layer.\n",
    "            act_func: Activation function to use in each perceptron of\n",
    "                this layer.\n",
    "        \"\"\"\n",
    "        # self.perceptrons = []  # TODO\n",
    "        self.perceptrons = [Perceptron(dim_in, act_func)\n",
    "                            for _ in range(dim_out)]\n",
    "\n",
    "    def activate(self, x):\n",
    "        \"\"\"Activate this layer by activating each individual neuron.\n",
    "        \n",
    "        Args:\n",
    "            x: Vector of input values.\n",
    "            \n",
    "        Retuns:\n",
    "            Vector (should be an np.array) of output values which can be used as input to\n",
    "            another PerceptronLayer instance.\n",
    "        \"\"\"\n",
    "        # return np.asarray([])  # TODO\n",
    "        return np.asarray([p.activate(x) for p in self.perceptrons])\n",
    "\n",
    "    def adapt(self, x, deltas, rate=0.03):\n",
    "        \"\"\"Adapt this layer by adapting each individual neuron.\n",
    "        \n",
    "        Args:\n",
    "            x: Vector of input values.\n",
    "            deltas: Vector of delta values.\n",
    "            rate: Learning rate.\n",
    "        \"\"\"\n",
    "        # pass  # TODO\n",
    "        for perceptron, delta in zip(self.perceptrons, deltas):\n",
    "            perceptron.adapt(x, delta, rate)\n",
    "\n",
    "    def get_weights_matrix(self):\n",
    "        \"\"\"Helper function for getting this layer's weight matrix.\n",
    "        \n",
    "        Returns:\n",
    "            Numpy array of all the weights for this perceptron layer.\n",
    "        \"\"\"\n",
    "        return np.asarray([p.weights for p in self.perceptrons]).T\n",
    "\n",
    "\n",
    "# TODO (ahoereth): Add asserts testing the perceptron layer."
   ]
  },
  {
   "cell_type": "markdown",
   "metadata": {
    "deletable": true,
    "editable": true
   },
   "source": [
    "### MultilayerPerceptron\n",
    "\n",
    "#### Forward-Propagation / Activation\n",
    "Propagate the input value $x$ through each layer of the network, employing the output of the previous layer as input to the next layer.\n",
    "\n",
    "#### Back-Propagation / Adaptation\n",
    "This is the most complex step of the problem. Split into 3 parts:\n",
    "\n",
    "1. Compute individual output values for each layer – similar to the forward-propagation step above, but we need to keep track of the intermediate results. That means: Store the input as the first \"output\". Activate the first hidden layer using the *last* output and append its activation to the outputs. Continue in the same way: For the next hidden layer use the *last* output again as the new input, activate it, store the results. Do this until all layers are activated in order.\n",
    "\n",
    "2. Calculate error signals $\\delta_i$ for all layers $k$. Start by calculating the *network* error `e`, which is the difference between the output and the target `t`. Then, for all layers (starting from behind), calculate the deltas:\n",
    "\n",
    "   $$\\delta_i(k) = o_i(k)\\ (1 - o_i(k))\\ \\sum\\limits_{j=1}^{N(k+1)} w_{ji}(k+1,k)\\delta_j(k+1)$$\n",
    "   \n",
    "    (*Hint*: For the last layer (i.e. the first you calculate the $\\delta$ for) the sum in the formula above is your network error. For all preceding layers $k$ you need to recalculate `e` using the $\\delta$ and weights of layer $k+1$. We already implemented a help function for you to access the weights of a specific layer. Check the `PerceptronLayer` if you did not find it yet.\n",
    "\n",
    "3. After calculating the `e` for the next layer, adapt the weights the current layer by $\\Delta$. Make sure that you use the non-updated weights for the calculations of the propagating $\\delta$. \n",
    "\n",
    "$$\\Delta(k+1) = \\epsilon\\, \\delta_j(k+1)\\, o_i(k)$$"
   ]
  },
  {
   "cell_type": "code",
   "execution_count": null,
   "metadata": {
    "collapsed": true,
    "deletable": true,
    "editable": true
   },
   "outputs": [],
   "source": [
    "class MultilayerPerceptron:\n",
    "    \"\"\"Network of perceptrons, also a set of multiple perceptron layers.\"\"\"\n",
    "\n",
    "    def __init__(self, *layers):\n",
    "        \"\"\"Initialize a new network, madeup of individual PerceptronLayers.\n",
    "\n",
    "        Args:\n",
    "            *layers: Arbritrarily many PerceptronLayer instances.\n",
    "        \"\"\"\n",
    "        self.layers = layers\n",
    "\n",
    "    def activate(self, x):\n",
    "        \"\"\"Activate network and return the last layer's output.\n",
    "\n",
    "        Args:\n",
    "            x: Vector of input values.\n",
    "\n",
    "        Returns:\n",
    "            Vector of output values from the last layer of the network\n",
    "            after propagating forward through the network.\n",
    "        \"\"\"\n",
    "        for layer in self.layers:\n",
    "            x = layer.activate(x)\n",
    "        return x\n",
    "\n",
    "    def adapt(self, x, t, rate=0.03):\n",
    "        \"\"\"Adapt the whole network given an input and expected output.\n",
    "\n",
    "        Args:\n",
    "            x: Vector of input values.\n",
    "            t: Vector of target values (expected outputs).\n",
    "            rate: Learning rate.\n",
    "        \"\"\"\n",
    "        # Activate each layer and collect intermediate outputs.\n",
    "        # outputs = []  # TODO\n",
    "        outputs = [x]\n",
    "        for layer in self.layers:\n",
    "            outputs.append(layer.activate(outputs[-1]))\n",
    "\n",
    "        # Calculate error between t and network output.\n",
    "        # e = []  # TODO\n",
    "        e = t - outputs[-1]\n",
    "\n",
    "        # Backpropagate error through the network and adapt each layer.\n",
    "        # TODO (ahoereth): Get rid of zip here because its \n",
    "        #     difficult to grasp not only for python beginners.\n",
    "        layers = list(zip(self.layers, outputs[:-1], outputs[1:]))\n",
    "        for layer, x, y in reversed(layers):\n",
    "            delta = (y * (1 - y)) * e\n",
    "            weights = layer.get_weights_matrix()\n",
    "            e = (weights @ delta)[1:]\n",
    "            layer.adapt(x, delta, rate)\n",
    "\n",
    "\n",
    "# TODO (ahoereth): Add asserts testing the MLP."
   ]
  },
  {
   "cell_type": "markdown",
   "metadata": {
    "deletable": true,
    "editable": true
   },
   "source": [
    "### Classification"
   ]
  },
  {
   "cell_type": "markdown",
   "metadata": {
    "deletable": true,
    "editable": true
   },
   "source": [
    "#### Problem Definition\n",
    "Before we start, we need a problem to solve. In the following cell we first generate some three dimensional data (= $\\text{input_dim}$) between 0 and 1 and label all data according to a binary classification: If the data is close to the center (radius < 2.5), it belongs to one class, if it is further away from the center it belongs to the other class.\n",
    "\n",
    "In the cell below we visualize the data set."
   ]
  },
  {
   "cell_type": "code",
   "execution_count": null,
   "metadata": {
    "collapsed": false,
    "deletable": true,
    "editable": true
   },
   "outputs": [],
   "source": [
    "def uniform(a, b, n=1):\n",
    "    \"\"\"Returns n floats uniformly distributed between a and b.\"\"\"\n",
    "    return (b - a) * np.random.random_sample(n) + a\n",
    "\n",
    "n = 1000\n",
    "radius = 5\n",
    "r = np.append(uniform(0, radius * .5, n // 2),\n",
    "              uniform(radius * .7, radius, n // 2))\n",
    "angle = uniform(0, 2*np.pi, n)\n",
    "x = r * np.sin(angle) + uniform(-radius, radius, n)\n",
    "y = r * np.cos(angle) + uniform(-radius, radius, n)\n",
    "inputs = np.vstack((x, y)).T\n",
    "targets = np.less(np.linalg.norm(inputs, axis=1), radius * .5)"
   ]
  },
  {
   "cell_type": "code",
   "execution_count": null,
   "metadata": {
    "collapsed": false,
    "deletable": true,
    "editable": true,
    "scrolled": false
   },
   "outputs": [],
   "source": [
    "%matplotlib inline\n",
    "import matplotlib.pyplot as plt\n",
    "\n",
    "plt.figure(figsize=(5,5))\n",
    "plt.suptitle('Labeled Data')\n",
    "plt.scatter(*inputs.T, 2, c=targets, cmap='RdYlBu');"
   ]
  },
  {
   "cell_type": "markdown",
   "metadata": {
    "deletable": true,
    "editable": true
   },
   "source": [
    "### Model Design"
   ]
  },
  {
   "cell_type": "code",
   "execution_count": null,
   "metadata": {
    "collapsed": false,
    "deletable": true,
    "editable": true
   },
   "outputs": [],
   "source": [
    "MLP = MultilayerPerceptron(\n",
    "    PerceptronLayer(2, 4),\n",
    "    PerceptronLayer(4, 2),\n",
    "    PerceptronLayer(2, 1),\n",
    ")"
   ]
  },
  {
   "cell_type": "markdown",
   "metadata": {
    "deletable": true,
    "editable": true
   },
   "source": [
    "### Training"
   ]
  },
  {
   "cell_type": "code",
   "execution_count": null,
   "metadata": {
    "collapsed": false,
    "deletable": true,
    "editable": true,
    "scrolled": false
   },
   "outputs": [],
   "source": [
    "import sys\n",
    "\n",
    "EPOCHS = 100000\n",
    "\n",
    "max_accuracy = 0\n",
    "\n",
    "for epoch in range(0, EPOCHS + 1):\n",
    "    s = np.random.randint(0, len(targets))\n",
    "    MLP.adapt(inputs[s], targets[s])\n",
    "\n",
    "    if epoch % 2500 == 0:\n",
    "        outputs = np.squeeze([MLP.activate(x) for x in inputs])\n",
    "        predictions = np.round(outputs)\n",
    "        accuracy = np.sum(predictions == targets) / len(targets)\n",
    "        max_accuracy = max_accuracy if accuracy < max_accuracy else accuracy\n",
    "        sys.stdout.write('\\rAccuracy at epoch {:6d}: {:.4f}%. Max accuracy: {:.4f}%'\n",
    "                         .format(epoch, accuracy, max_accuracy))\n",
    "        sys.stdout.flush()"
   ]
  },
  {
   "cell_type": "markdown",
   "metadata": {
    "deletable": true,
    "editable": true
   },
   "source": [
    "### Evaluation"
   ]
  },
  {
   "cell_type": "code",
   "execution_count": null,
   "metadata": {
    "collapsed": false,
    "deletable": true,
    "editable": true
   },
   "outputs": [],
   "source": [
    "plt.figure(figsize=(7,7))\n",
    "plt.suptitle('Evaluation')\n",
    "ax = plt.subplot(2,2,1)\n",
    "ax.scatter(*inputs.T, 2, c=outputs, cmap='RdYlBu')\n",
    "ax.set_title('Continious Classification')\n",
    "ax = plt.subplot(2,2,2)\n",
    "ax.set_title('Discretized Classification')\n",
    "ax.scatter(*inputs.T, 2, c=np.round(outputs), cmap='RdYlBu')\n",
    "ax = plt.subplot(2,2,3)\n",
    "ax.set_title('Labels')\n",
    "ax.scatter(*inputs.T, 2, c=targets, cmap='RdYlBu')\n",
    "ax = plt.subplot(2,2,4)\n",
    "ax.set_title('Wrong Classifications')\n",
    "ax.scatter(*inputs.T, 2, c=(targets!=np.round(outputs)), cmap='OrRd');"
   ]
  },
  {
   "cell_type": "markdown",
   "metadata": {
    "deletable": true,
    "editable": true
   },
   "source": [
    "## Assignment 2: MLP and RBFN [10 Points]"
   ]
  },
  {
   "cell_type": "markdown",
   "metadata": {
    "collapsed": true,
    "deletable": true,
    "editable": true
   },
   "source": [
    "This exercise is aimed at deepening the understanding of Radial Basis Function Networks and how they relate to Multilayer Perceptrons. Not all of the answers can be found directly in the slides - so when answering the (more algorithmic) questions, first take a minute and think about how you would go about solving them and if nothing comes to mind search the internet for a little bit. If you are interested in a real life application of both algorithms and how they compare take a look at this paper: [Comparison between Multi-Layer Perceptron and Radial Basis Function Networks for Sediment Load Estimation in a Tropical Watershed](http://file.scirp.org/pdf/JWARP20121000014_80441700.pdf)\n",
    "\n",
    "![Schematic of a RBFN](RBFN.png)\n",
    "\n",
    "We have prepared a little example that shows how radial basis function approximation works in Python. This is not an example implementation of a RBFN but illustrates the work of the hidden neurons."
   ]
  },
  {
   "cell_type": "code",
   "execution_count": null,
   "metadata": {
    "collapsed": false,
    "deletable": true,
    "editable": true
   },
   "outputs": [],
   "source": [
    "%matplotlib inline\n",
    "\n",
    "import numpy as np\n",
    "from numpy.random import uniform\n",
    "\n",
    "from scipy.interpolate import Rbf\n",
    "\n",
    "import matplotlib\n",
    "import matplotlib.pyplot as plt\n",
    "from matplotlib import cm\n",
    "\n",
    "\n",
    "def func(x,y):\n",
    "    '''\n",
    "    This is the example function that should be fitted.\n",
    "    Its shape could be described as two peaks close to\n",
    "    each other - one going up, the other going down\n",
    "    '''\n",
    "    return (x + y) * np.exp(-4.0 * (x**2 + y**2))\n",
    "\n",
    "# number of training points (you may try different values here)\n",
    "training_size = 50\n",
    "\n",
    "# sample 'training_size' data points from the input space [-1,1]x[-1,1] ...\n",
    "x = uniform(-1.0, 1.0, size=training_size)\n",
    "y = uniform(-1.0, 1.0, size=training_size)\n",
    "\n",
    "# ... and compute function values for them.\n",
    "fvals = func(x, y)\n",
    "\n",
    "# get the aprroximation via RBF\n",
    "new_func = Rbf(x, y, fvals)\n",
    "\n",
    "\n",
    "# Plot both functions: \n",
    "# create a 100x100 grid of input values\n",
    "x_grid, y_grid = np.mgrid[-1:1:100j, -1:1:100j]\n",
    "\n",
    "plt.figure(\"Original Function\")\n",
    "# This plot represents the original function\n",
    "f_orig = func(x_grid, y_grid)\n",
    "plt.imshow(f_orig, extent=[-1,1,-1,1], cmap=plt.cm.jet)\n",
    "\n",
    "plt.figure(\"RBF Result\")\n",
    "# This plots the approximation of the original function by the RBF\n",
    "# if the plot looks strange try to run it again, the sampling\n",
    "# in the beginning is random\n",
    "f_new = new_func(x_grid, y_grid)\n",
    "plt.imshow(f_new, extent=[-1,1,-1,1], cmap=plt.cm.jet)\n",
    "plt.xlim(-1,1)\n",
    "plt.ylim(-1,1)\n",
    "# scatter the datapoints that have been used by the RBF\n",
    "plt.scatter(x, y);"
   ]
  },
  {
   "cell_type": "markdown",
   "metadata": {
    "deletable": true,
    "editable": true
   },
   "source": [
    "### Radial Basis Function Networks"
   ]
  },
  {
   "cell_type": "markdown",
   "metadata": {
    "deletable": true,
    "editable": true
   },
   "source": [
    "#### What are radial basis functions?"
   ]
  },
  {
   "cell_type": "markdown",
   "metadata": {
    "deletable": true,
    "editable": true
   },
   "source": [
    "Radial basis functions are all functions that fullfill the following criteria:\n",
    "\n",
    "The value of the function for a certain point depends only on the distance of that point to the origin or some other fixed center point. In mathematical formulation that spells out to: \n",
    "$\\phi (\\mathbf {x} )=\\phi (\\|\\mathbf {x} \\|)$  or  $\\phi (\\mathbf {x} ,\\mathbf {c} )=\\phi (\\|\\mathbf {x} -\\mathbf {c} \\|)$. Notice that it is not necessary (but most common) to use the norm as the measure of distance."
   ]
  },
  {
   "cell_type": "markdown",
   "metadata": {
    "deletable": true,
    "editable": true
   },
   "source": [
    "#### What is the structure of a RBFN? You may also use the notion from the above included picture."
   ]
  },
  {
   "cell_type": "markdown",
   "metadata": {
    "deletable": true,
    "editable": true
   },
   "source": [
    "RBFN's are networks that contain only one hidden layer. The input is connected to all the hidden units. Each of the hidden units has a different radial basis function that is *sensitive* to ranges in the input domain. The output is then a linear combination of the outpus ot those functions."
   ]
  },
  {
   "cell_type": "markdown",
   "metadata": {
    "deletable": true,
    "editable": true
   },
   "source": [
    "#### How is a RBFN trained?"
   ]
  },
  {
   "cell_type": "markdown",
   "metadata": {
    "deletable": true,
    "editable": true
   },
   "source": [
    "Note: all input data has to be normalized.\n",
    "\n",
    "Training a RBFN is a two-step process. First the functions in the hidden layer are initialized. This can be either done by sampling from the input data or by first performing a k-means clustering, where k is the number of nodes that have to be initialzed.\n",
    "\n",
    "The second step fits a linear model with coefficients $w_{i}$ to the hidden layer's outputs with respect to some objective function. The objective function depends on the task: it can be the least squares function, or the weights can be adapted by gradient descent."
   ]
  },
  {
   "cell_type": "markdown",
   "metadata": {
    "deletable": true,
    "editable": true
   },
   "source": [
    "### Comparison to the Multilayer Perceptron"
   ]
  },
  {
   "cell_type": "markdown",
   "metadata": {
    "deletable": true,
    "editable": true
   },
   "source": [
    "#### What do both models have in common? Where do they differ?"
   ]
  },
  {
   "cell_type": "markdown",
   "metadata": {
    "deletable": true,
    "editable": true
   },
   "source": [
    "|RBFN                 |MLP                  | \n",
    "|---------------------|---------------------|\n",
    "| non-linear layered feedforward network|non-linear layered feedforward network| \n",
    "| hidden neurons use radial basis functions, output neurons use linear function| input, hidden and output-layer all use the same activation function| \n",
    "| universal approximator |   universal approximator |\n",
    "| learning usually affects only one or some RBF | learning affects many weights throught the network|"
   ]
  },
  {
   "cell_type": "markdown",
   "metadata": {
    "deletable": true,
    "editable": true
   },
   "source": [
    "#### How can classification in both networks be visualized?"
   ]
  },
  {
   "cell_type": "markdown",
   "metadata": {
    "deletable": true,
    "editable": true
   },
   "source": [
    "![Classification](Solution_Classification.png)"
   ]
  },
  {
   "cell_type": "markdown",
   "metadata": {
    "deletable": true,
    "editable": true
   },
   "source": [
    "#### When would you use a RBFN instead of a Multilayer Perceptron?"
   ]
  },
  {
   "cell_type": "markdown",
   "metadata": {
    "deletable": true,
    "editable": true
   },
   "source": [
    "RBFNs are more robust to noise and should therefore be used when the data contains false-positives."
   ]
  }
 ],
 "metadata": {
  "kernelspec": {
   "display_name": "Python 3",
   "language": "python",
   "name": "python3"
  },
  "language_info": {
   "codemirror_mode": {
    "name": "ipython",
    "version": 3
   },
   "file_extension": ".py",
   "mimetype": "text/x-python",
   "name": "python",
   "nbconvert_exporter": "python",
   "pygments_lexer": "ipython3",
   "version": "3.6.0"
  }
 },
 "nbformat": 4,
 "nbformat_minor": 0
}
