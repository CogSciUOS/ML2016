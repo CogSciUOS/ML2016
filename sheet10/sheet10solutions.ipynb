{
 "cells": [
  {
   "cell_type": "markdown",
   "metadata": {},
   "source": [
    "Osnabrück University - Machine Learning (Summer Term 2016) - Prof. Dr.-Ing. G. Heidemann, Ulf Krumnack"
   ]
  },
  {
   "cell_type": "markdown",
   "metadata": {},
   "source": [
    "# Exercise Sheet 10"
   ]
  },
  {
   "cell_type": "markdown",
   "metadata": {},
   "source": [
    "## Introduction\n",
    "\n",
    "This week's sheet should be solved and handed in before the end of **Sunday, June 26, 2016**. If you need help (and Google and other resources were not enough), feel free to contact your groups' designated tutor or whomever of us you run into first. Please upload your results to your group's Stud.IP folder."
   ]
  },
  {
   "cell_type": "markdown",
   "metadata": {},
   "source": [
    "## Assignment 1:  [x Points]"
   ]
  },
  {
   "cell_type": "code",
   "execution_count": null,
   "metadata": {
    "collapsed": true
   },
   "outputs": [],
   "source": [
    "\n",
    "    \n",
    "    "
   ]
  },
  {
   "cell_type": "markdown",
   "metadata": {},
   "source": [
    "## Assignment 2: Ultimate Dinosaur 3000 M4ze Xtrem!  [10 Points]\n",
    "\n",
    "In this assignment your task will be to use unsupervised learning methods and create the greatest dinosaur-maze simulation that the world has ever seen.\n",
    "\n",
    "here is some q-learning example, based on code from Moritz Meier, that I tried to put into a notebook ... maye that helps ... otherwise just ignore"
   ]
  },
  {
   "cell_type": "code",
   "execution_count": null,
   "metadata": {
    "collapsed": true
   },
   "outputs": [],
   "source": [
    "%matplotlib notebook\n",
    "import numpy as np\n",
    "import matplotlib.pyplot as plt\n",
    "import matplotlib.animation as animation\n",
    "from collections import defaultdict\n",
    "from itertools import chain, count"
   ]
  },
  {
   "cell_type": "code",
   "execution_count": null,
   "metadata": {
    "collapsed": true
   },
   "outputs": [],
   "source": [
    "def softmax(x):\n",
    "    '''\n",
    "    Softmax algorithm after the forumla: e^x/sum(e^x)\n",
    "    '''\n",
    "    e_x = np.exp(x) \n",
    "    return e_x / e_x.sum()"
   ]
  },
  {
   "cell_type": "code",
   "execution_count": null,
   "metadata": {
    "collapsed": false
   },
   "outputs": [],
   "source": [
    "class QLearner:\n",
    "    def __init__(self, actions, discount_factor, learning_rate, q_init):\n",
    "        self.gamma = discount_factor\n",
    "        self.alpha = learning_rate\n",
    "        self.actions = actions\n",
    "        self.q_init = q_init\n",
    "        factory = lambda : {a : q_init for a in actions}\n",
    "        self.q_dict = defaultdict(factory)\n",
    "        \n",
    "    def update(self, state, action, reward, next_state, mean_val=False):\n",
    "        old_q = self.q_dict[state][action]\n",
    "        if not mean_val:\n",
    "            max_q = max(self.q_dict[next_state].values())\n",
    "        else:\n",
    "            max_q = np.mean(list(self.q_dict[next_state].values()))\n",
    "        new_q = old_q + self.alpha*(reward + self.gamma*max_q - old_q)\n",
    "        self.q_dict[state][action] = new_q\n",
    "\n",
    "    def choose_action(self, state):\n",
    "        actions, qvals = zip(*self.q_dict[state].items())\n",
    "        dist = softmax(np.asarray(qvals))\n",
    "        return np.random.choice(actions, p=dist)\n",
    "    \n",
    "    def q_map(self, average=False):\n",
    "        if self.q_dict.keys():\n",
    "            X, Y = zip(*self.q_dict.keys())\n",
    "            qmap = np.zeros([max(X)+2, max(Y)+2])#*float('-inf')\n",
    "            for (x,y),actions in self.q_dict.items():\n",
    "                if average:\n",
    "                    qmap[x,y] = np.mean(list(actions.values()))\n",
    "                else:\n",
    "                    qmap[x,y] = max(actions.values())\n",
    "        else:\n",
    "            qmap = np.zeros([1,1])\n",
    "        return qmap\n",
    "    \n",
    "    def q_map_for_shape(self, shape, average=False):\n",
    "        qmap = np.zeros(shape)\n",
    "        if self.q_dict.keys():\n",
    "            X, Y = zip(*self.q_dict.keys())\n",
    "            for (x,y),actions in self.q_dict.items():\n",
    "                if average:\n",
    "                    qmap[x,y] = np.mean(list(actions.values()))\n",
    "                else:\n",
    "                    qmap[x,y] = max(actions.values())\n",
    "        return qmap"
   ]
  },
  {
   "cell_type": "code",
   "execution_count": null,
   "metadata": {
    "collapsed": true
   },
   "outputs": [],
   "source": [
    "# Global variables for the labyrinth\n",
    "\n",
    "PLAYER = 2\n",
    "EMPTY = 0\n",
    "EXIT = 1\n",
    "SPIKES = 5\n",
    "WALL = 10\n",
    "\n",
    "rewards = {\n",
    "    EMPTY : -1,\n",
    "    EXIT : 100,\n",
    "    WALL : -2,\n",
    "    SPIKES : -100\n",
    "}\n",
    "\n",
    "passable = [EMPTY,SPIKES, EXIT]\n",
    "removable = []\n",
    "restarts = [SPIKES, EXIT]\n",
    "\n",
    "code = {}\n",
    "for i,L in {\n",
    "    WALL   : ['|','-','+'],\n",
    "    EMPTY  : [' '],\n",
    "    SPIKES : ['x','X'],\n",
    "    EXIT   : ['E'],\n",
    "    PLAYER : ['P'],\n",
    "}.items():\n",
    "    for c in L:\n",
    "        code[c] = i"
   ]
  },
  {
   "cell_type": "code",
   "execution_count": null,
   "metadata": {
    "collapsed": true
   },
   "outputs": [],
   "source": [
    "class MazeGame:\n",
    "    def __init__(self, maze, start_pos = None):\n",
    "        self.start_pos = start_pos\n",
    "        self.start_maze = maze\n",
    "        self.actions = ['up','down','right','left']\n",
    "        self.restart()\n",
    "        self.exit = False\n",
    "    \n",
    "    @property\n",
    "    def state(self):\n",
    "        return (self.x, self.y)\n",
    "        \n",
    "    def restart(self):\n",
    "        self.maze = self.start_maze.copy()\n",
    "        if self.start_pos:\n",
    "            self.x = self.start_pos[0]\n",
    "            self.y = self.start_pos[1]\n",
    "        else:\n",
    "            self.x = np.random.randint(1,self.maze.shape[0]-1)\n",
    "            self.y = np.random.randint(1,self.maze.shape[1]-1)\n",
    "            while self.maze[self.x, self.y] != EMPTY:\n",
    "                self.x = np.random.randint(1,self.maze.shape[0]-1)\n",
    "                self.y = np.random.randint(1,self.maze.shape[1]-1)\n",
    "        self.exit = False\n",
    "        \n",
    "    def do_action(self, name):\n",
    "        y_new = self.y\n",
    "        x_new = self.x\n",
    "        \n",
    "        if   name == 'up'   : x_new -= 1\n",
    "        elif name == 'down' : x_new += 1             \n",
    "        elif name == 'left' : y_new -= 1                 \n",
    "        elif name == 'right': y_new += 1\n",
    "        else: raise ActionError('No such action:', name)\n",
    "\n",
    "        new_field = self.maze[x_new, y_new]\n",
    "        reward = rewards[new_field]\n",
    "        \n",
    "        if self.maze[x_new, y_new] in restarts:\n",
    "            self.exit = True\n",
    "\n",
    "        if self.maze[x_new, y_new] in passable:\n",
    "            self.x = x_new\n",
    "            self.y = y_new\n",
    "        else:\n",
    "            #print('not passable')\n",
    "            pass\n",
    "\n",
    "        if self.maze[x_new, y_new] in removable:\n",
    "            if self.maze[x_new, y_new] in passable:\n",
    "                self.maze[x_new, y_new] = EMPTY\n",
    "            else:\n",
    "                self.maze[x_new, y_new] = WALL\n",
    "        return reward\n",
    "\n",
    "    \n",
    "class ActionError(Exception):\n",
    "    pass"
   ]
  },
  {
   "cell_type": "code",
   "execution_count": null,
   "metadata": {
    "collapsed": true
   },
   "outputs": [],
   "source": [
    "def create_maze(str_maze):\n",
    "    maze = []\n",
    "    start_pos = (0,0)\n",
    "    for x,line in enumerate(str_maze.split('\\n')):\n",
    "        row = []\n",
    "        for y,c in enumerate(line):\n",
    "            if code[c] == PLAYER:\n",
    "                start_pos = (x,y)\n",
    "                row.append(EMPTY)\n",
    "            else:\n",
    "                row.append(code[c])\n",
    "        maze.append(row)\n",
    "    \n",
    "    maze = np.asarray(maze)\n",
    "    xlen = maze.shape[0]\n",
    "    ylen = maze.shape[1]\n",
    "    frame = np.ones((xlen+2,ylen+2))*WALL\n",
    "    frame[1:-1,1:-1] -= np.ones((xlen,ylen))*WALL\n",
    "    frame[1:-1,1:-1] += maze\n",
    "    \n",
    "    return frame, (start_pos[0]+1,start_pos[1]+1)"
   ]
  },
  {
   "cell_type": "code",
   "execution_count": null,
   "metadata": {
    "collapsed": true
   },
   "outputs": [],
   "source": [
    "def plot_maze(maze, ax):\n",
    "    plt.sca(ax)\n",
    "    ax.set_xticks(np.arange(1,maze.shape[0])-0.5)                                              \n",
    "    ax.set_yticks(np.arange(1,maze.shape[1])-0.5)\n",
    "    plt.tick_params(\n",
    "        labelbottom='off',\n",
    "        labelleft='off',\n",
    "        bottom='off',\n",
    "        top='off',\n",
    "        left='off',\n",
    "        right='off',\n",
    "    )\n",
    "    plt.tight_layout()\n",
    "    im = plt.imshow(maze, interpolation='nearest', cmap=plt.cm.spectral_r, animated=True)\n",
    "    #cmap=plt.cm.CMRmap_r\n",
    "    #cmap=plt.cm.gnuplot2_r\n",
    "    plt.grid()\n",
    "    #plt.colorbar()\n",
    "    return im"
   ]
  },
  {
   "cell_type": "code",
   "execution_count": null,
   "metadata": {
    "collapsed": true
   },
   "outputs": [],
   "source": [
    "def plot_fitmap(fmap, ax):\n",
    "    plt.sca(ax)\n",
    "    ax.set_xticks(np.arange(1,fmap.shape[0])-0.5)                                              \n",
    "    ax.set_yticks(np.arange(1,fmap.shape[1])-0.5)\n",
    "    plt.tick_params(\n",
    "        labelbottom='off',\n",
    "        labelleft='off',\n",
    "        bottom='off',\n",
    "        top='off',\n",
    "        left='off',\n",
    "        right='off',\n",
    "    )\n",
    "    plt.tight_layout()\n",
    "    im = plt.imshow(fmap, interpolation='nearest', animated=True, cmap=plt.cm.spectral_r)\n",
    "    plt.grid()\n",
    "    #plt.colorbar()\n",
    "    return im"
   ]
  },
  {
   "cell_type": "code",
   "execution_count": null,
   "metadata": {
    "collapsed": true
   },
   "outputs": [],
   "source": [
    "maze_str = '\\n'.join([\n",
    "    \"X                  \",\n",
    "    \"X                  \",\n",
    "    \"X                  \",\n",
    "    \"X        ----------\",\n",
    "    \"X                  \",\n",
    "    \"   P -+            \",\n",
    "    \"      |     |      \",\n",
    "    \"      |     |      \",\n",
    "    \"  |   |     |      \",\n",
    "    \"  |   |     |      \",\n",
    "    \"  |   |     |      \",\n",
    "    \"  |   |     |      \",\n",
    "    \"  |   |     |      \",\n",
    "    \" X|         |    EE\"])\n",
    "start_maze,start_pos = create_maze(maze_str)"
   ]
  },
  {
   "cell_type": "code",
   "execution_count": null,
   "metadata": {
    "collapsed": false
   },
   "outputs": [],
   "source": [
    "import time\n",
    "\n",
    "\n",
    "# You may interrupt this cell, change parameters (show_*) and then restart the cell again.\n",
    "# If this flag is set to True, the learner will continue where it was stopped.\n",
    "continue_old_game = False\n",
    "\n",
    "# show_maze: indicates if the map\n",
    "show_maze = True\n",
    "show_qmap = True\n",
    "# only show output when a game was finished (goal was reached)\n",
    "# This will speed up the process ...\n",
    "show_only_after_game = True\n",
    "\n",
    "if (not 'game' in globals()) or not continue_old_game:\n",
    "    game = MazeGame(start_maze, start_pos)\n",
    "    #game = MazeGame(start_maze)\n",
    "    player = QLearner(\n",
    "            discount_factor=0.9,\n",
    "            learning_rate=0.9,\n",
    "            q_init=10,\n",
    "            actions = game.actions)\n",
    "\n",
    "fig = plt.figure()\n",
    "if show_maze: ax_maze = fig.add_subplot(1,2,1)\n",
    "if show_qmap: ax_qmap = fig.add_subplot(1,2,2)\n",
    "\n",
    "for _ in count():\n",
    "    show = (not show_only_after_game) or game.exit\n",
    "\n",
    "    if game.exit:\n",
    "        game.restart()\n",
    "    else:\n",
    "        old_state = game.state\n",
    "        action = player.choose_action(old_state)\n",
    "        reward = game.do_action(action)\n",
    "        new_state = game.state\n",
    "        \n",
    "        player.update(\n",
    "            state=old_state,\n",
    "            next_state=new_state, \n",
    "            reward=reward,\n",
    "            action=action,\n",
    "            mean_val=False)\n",
    "    \n",
    "    if show:\n",
    "        if show_maze:\n",
    "            maze = game.maze.copy()\n",
    "            maze[game.x, game.y] = PLAYER\n",
    "            plot_maze(maze, ax_maze)\n",
    "\n",
    "        if show_qmap:\n",
    "            plot_fitmap(player.q_map_for_shape(maze.shape), ax_qmap)\n",
    "        \n",
    "        if show_maze or show_qmap:\n",
    "            fig.canvas.draw()\n",
    "            time.sleep(.01)\n"
   ]
  },
  {
   "cell_type": "code",
   "execution_count": null,
   "metadata": {
    "collapsed": true
   },
   "outputs": [],
   "source": [
    "import numpy as np\n",
    "import numpy.random as rand\n",
    "import scipy.ndimage as ndimage\n",
    "\n",
    "\n",
    "def generate_field(x, y, num_rewards, max_reward):\n",
    "    '''\n",
    "    Generate Field with the rewards\n",
    "    '''\n",
    "    field = np.zeros((x,y), dtype=np.uint8)\n",
    "    \n",
    "    for i in range(num_rewards):\n",
    "        field[rand.randint(x), rand.randint(y)] = rand.choice(max_reward)\n",
    "    \n",
    "    return field"
   ]
  },
  {
   "cell_type": "code",
   "execution_count": null,
   "metadata": {
    "collapsed": false
   },
   "outputs": [],
   "source": [
    "%matplotlib notebook\n",
    "\n",
    "import matplotlib.pyplot as plt\n",
    "\n",
    "# Testing the maze\n",
    "m_x = 35\n",
    "m_y = 30\n",
    "m = generate_field(m_x, m_y, 4, 90)\n",
    "\n",
    "figure = plt.figure('Field')\n",
    "plt.axis('off')\n",
    "\n",
    "plt.imshow(m, interpolation='none')\n",
    "figure.canvas.draw()"
   ]
  },
  {
   "cell_type": "code",
   "execution_count": null,
   "metadata": {
    "collapsed": true
   },
   "outputs": [],
   "source": []
  }
 ],
 "metadata": {
  "kernelspec": {
   "display_name": "Python 3",
   "language": "python",
   "name": "python3"
  },
  "language_info": {
   "codemirror_mode": {
    "name": "ipython",
    "version": 3
   },
   "file_extension": ".py",
   "mimetype": "text/x-python",
   "name": "python",
   "nbconvert_exporter": "python",
   "pygments_lexer": "ipython3",
   "version": "3.5.1"
  }
 },
 "nbformat": 4,
 "nbformat_minor": 0
}
