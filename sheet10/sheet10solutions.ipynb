{
 "cells": [
  {
   "cell_type": "markdown",
   "metadata": {},
   "source": [
    "Osnabrück University - Machine Learning (Summer Term 2016) - Prof. Dr.-Ing. G. Heidemann, Ulf Krumnack"
   ]
  },
  {
   "cell_type": "markdown",
   "metadata": {},
   "source": [
    "# Exercise Sheet 10"
   ]
  },
  {
   "cell_type": "markdown",
   "metadata": {},
   "source": [
    "## Introduction\n",
    "\n",
    "This week's sheet should be solved and handed in before the end of **Sunday, June 28, 2016**. If you need help (and Google and other resources were not enough), feel free to contact your groups' designated tutor or whomever of us you run into first. Please upload your results to your group's Stud.IP folder."
   ]
  },
  {
   "cell_type": "markdown",
   "metadata": {},
   "source": [
    "## Assignment 1: Ultimate Dinosaur 3000 Xtrem!  [10 Points]\n",
    "\n",
    "In this assignment your task will be to use unsupervised learning methods and create the greatest dinosaur-labyrinth simulation that the world has ever seen. The group with the highest score reached by your AI will receive a special treat from your trainer."
   ]
  },
  {
   "cell_type": "code",
   "execution_count": null,
   "metadata": {
    "collapsed": true
   },
   "outputs": [],
   "source": [
    "def generate_labyrinth:\n",
    "    '''\n",
    "    Generates a maze following Prim's algorithm. The labyrinth is stored in a matrix.\n",
    "    1's encode walls and 0's a passage.\n",
    "    \n",
    "    -Start with a grid full of walls.\n",
    "    -Pick a cell, mark it as part of the maze. Add the walls of the cell to the wall list.\n",
    "    -While there are walls in the list:\n",
    "        -Pick a random wall from the list. We now have two cases: either there exists \n",
    "         exactly one unvisited cell on one of the two sides of the chosen wall, or there does not. If it is the former:\n",
    "        -Make the wall a passage and mark the unvisited cell as part of the maze.\n",
    "        -Add the neighboring walls of the cell to the wall list.\n",
    "        -Remove the wall from the list.\n",
    "    '''\n",
    "    \n",
    "    \n",
    "    "
   ]
  },
  {
   "cell_type": "markdown",
   "metadata": {},
   "source": [
    "## Assignment 2:  [x Points]\n"
   ]
  },
  {
   "cell_type": "code",
   "execution_count": null,
   "metadata": {
    "collapsed": true
   },
   "outputs": [],
   "source": []
  }
 ],
 "metadata": {
  "kernelspec": {
   "display_name": "Python 3",
   "language": "python",
   "name": "python3"
  },
  "language_info": {
   "codemirror_mode": {
    "name": "ipython",
    "version": 3
   },
   "file_extension": ".py",
   "mimetype": "text/x-python",
   "name": "python",
   "nbconvert_exporter": "python",
   "pygments_lexer": "ipython3",
   "version": "3.5.1"
  }
 },
 "nbformat": 4,
 "nbformat_minor": 0
}
