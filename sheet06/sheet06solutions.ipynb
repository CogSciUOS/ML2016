{
 "cells": [
  {
   "cell_type": "markdown",
   "metadata": {},
   "source": [
    "Osnabrück University - Machine Learning (Summer Term 2016) - Prof. Dr.-Ing. G. Heidemann, Ulf Krumnack"
   ]
  },
  {
   "cell_type": "markdown",
   "metadata": {},
   "source": [
    "# Exercise Sheet 06"
   ]
  },
  {
   "cell_type": "markdown",
   "metadata": {},
   "source": [
    "## Introduction\n",
    "\n",
    "This week's sheet should be solved and handed in before the end of **Sunday, May 29, 2016**. If you need help (and Google and other resources were not enough), feel free to contact your groups designated tutor or whomever of us you run into first. Please upload your results to your group's studip folder."
   ]
  },
  {
   "cell_type": "markdown",
   "metadata": {},
   "source": [
    "## Assignment 1: Self-organizing maps"
   ]
  },
  {
   "cell_type": "code",
   "execution_count": null,
   "metadata": {
    "collapsed": true
   },
   "outputs": [],
   "source": []
  },
  {
   "cell_type": "markdown",
   "metadata": {},
   "source": [
    "## Assignment 2: Hebbian Learning"
   ]
  },
  {
   "cell_type": "code",
   "execution_count": null,
   "metadata": {
    "collapsed": true
   },
   "outputs": [],
   "source": []
  },
  {
   "cell_type": "markdown",
   "metadata": {},
   "source": [
    "## Assignment 3: Local PCA"
   ]
  },
  {
   "cell_type": "markdown",
   "metadata": {
    "collapsed": true
   },
   "source": [
    "In the lecture we learned that regular PCA is ill suited for special cases of data. In this assignment we will take a look at local PCA which is used for clustered data [ML 06 - S.25]. This is mostly a repition of algorithms we already used. Feel free to use the inbuild functions for kmeans clustering and PCA from the libraries (we already included the right imports to set you on track)."
   ]
  },
  {
   "cell_type": "code",
   "execution_count": null,
   "metadata": {
    "collapsed": false
   },
   "outputs": [],
   "source": [
    "%matplotlib notebook\n",
    "\n",
    "import numpy as np\n",
    "import numpy.random as rnd\n",
    "import matplotlib.pyplot as plt\n",
    "\n",
    "from numpy.random import multivariate_normal as multNorm\n",
    "from scipy.cluster.vq import kmeans,vq\n",
    "\n",
    "# Generate clustered data - you may plot the data to take a look at it\n",
    "data = np.vstack((multNorm([4,2],[[1, 0], [0, 1]],100), multNorm([-2,-4],[[1, 0], [0, 0.3]],100)))\n",
    "\n",
    "# computing K-Means with K = 2 (2 clusters)\n",
    "centroids,_ = kmeans(data,2)\n",
    "\n",
    "# assign each sample to a cluster\n",
    "idx,_ = vq(data,centroids)\n",
    "\n",
    "#find out eigenvectors of the clusters\n",
    "eigVecs = np.empty([np.unique(idx).size, 2, 2])\n",
    "for idxU in np.unique(idx):\n",
    "    #Normalize the data\n",
    "    clus = data[idx==idxU]\n",
    "    clus_norm = (clus - np.mean(clus)) / np.std(clus)\n",
    "    #compute autocovariance matrix\n",
    "    autocovar = clus_norm.T @ clus_norm\n",
    "    #compute eigenvalues and eigenvectors\n",
    "    eigenval, eigenvec = np.linalg.eig(autocovar)\n",
    "    #store eigen vectors for plotting\n",
    "    eigVecs[idxU] = (1.3 * eigenvec)\n",
    "\n",
    "\n",
    "# plotting the results of kmeans and local PCA\n",
    "fig = plt.figure('Local PCA')\n",
    "plt.plot(data[idx==0,0],data[idx==0,1],'og',\n",
    "         data[idx==1,0],data[idx==1,1],'oc')\n",
    "plt.plot(centroids[:,0],centroids[:,1],'*y',markersize=15)\n",
    "\n",
    "#Plot local PC's \n",
    "print(centroids)\n",
    "print(centroids[0,:])\n",
    "cl1 = np.hstack((np.tile(centroids[0,:],2).reshape(2,2), eigVecs[0,:]))\n",
    "\n",
    "cl2 = np.hstack((np.tile(centroids[1,:],2).reshape(2,2), eigVecs[1,:]))\n",
    "cls = np.hstack((cl1,cl2))\n",
    "\n",
    "print(cls.shape)\n",
    "print(cls)\n",
    "#X,Y,U,V,X1,Y1,U1,V1 = zip(*cls)\n",
    "X,Y,U,V = zip(*cl1)\n",
    "ax = plt.gca()\n",
    "ax.quiver(X,Y,U,V,angles='xy',scale_units='xy',scale=1)\n",
    "\n",
    "fig.canvas.draw()"
   ]
  },
  {
   "cell_type": "code",
   "execution_count": null,
   "metadata": {
    "collapsed": true
   },
   "outputs": [],
   "source": []
  }
 ],
 "metadata": {
  "kernelspec": {
   "display_name": "Python 3",
   "language": "python",
   "name": "python3"
  },
  "language_info": {
   "codemirror_mode": {
    "name": "ipython",
    "version": 3
   },
   "file_extension": ".py",
   "mimetype": "text/x-python",
   "name": "python",
   "nbconvert_exporter": "python",
   "pygments_lexer": "ipython3",
   "version": "3.5.1"
  }
 },
 "nbformat": 4,
 "nbformat_minor": 0
}
