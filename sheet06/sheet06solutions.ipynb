{
 "cells": [
  {
   "cell_type": "markdown",
   "metadata": {},
   "source": [
    "Osnabrück University - Machine Learning (Summer Term 2016) - Prof. Dr.-Ing. G. Heidemann, Ulf Krumnack"
   ]
  },
  {
   "cell_type": "markdown",
   "metadata": {},
   "source": [
    "# Exercise Sheet 06"
   ]
  },
  {
   "cell_type": "markdown",
   "metadata": {},
   "source": [
    "## Introduction\n",
    "\n",
    "This week's sheet should be solved and handed in before the end of **Sunday, May 29, 2016**. If you need help (and Google and other resources were not enough), feel free to contact your groups designated tutor or whomever of us you run into first. Please upload your results to your group's studip folder."
   ]
  },
  {
   "cell_type": "markdown",
   "metadata": {},
   "source": [
    "## Assignment 1: Self-organizing maps"
   ]
  },
  {
   "cell_type": "code",
   "execution_count": null,
   "metadata": {
    "collapsed": true
   },
   "outputs": [],
   "source": []
  },
  {
   "cell_type": "markdown",
   "metadata": {},
   "source": [
    "## Assignment 2: Hebbian Learning"
   ]
  },
  {
   "cell_type": "code",
   "execution_count": null,
   "metadata": {
    "collapsed": true
   },
   "outputs": [],
   "source": []
  },
  {
   "cell_type": "markdown",
   "metadata": {},
   "source": [
    "## Assignment 3: Local PCA"
   ]
  },
  {
   "cell_type": "markdown",
   "metadata": {
    "collapsed": true
   },
   "source": [
    "In the lecture we learned that regular PCA is ill suited for special cases of data. In this assignment we will take a look at local PCA which is used for clustered data (ML-06, Slide 25). This is mostly a repetition of algorithms we already used. Feel free to use the built-in functions for k-means clustering and PCA from the libraries (we already included the right imports to set you on track)."
   ]
  },
  {
   "cell_type": "code",
   "execution_count": null,
   "metadata": {
    "collapsed": false,
    "scrolled": false
   },
   "outputs": [],
   "source": [
    "%matplotlib notebook\n",
    "\n",
    "import numpy as np\n",
    "import numpy.random as rnd\n",
    "import matplotlib.pyplot as plt\n",
    "\n",
    "from numpy.random import multivariate_normal as multNorm\n",
    "\n",
    "from scipy.cluster.vq import kmeans, vq\n",
    "from sklearn.decomposition.pca import PCA\n",
    "\n",
    "# Generate clustered data - you may plot the data to take a look at it\n",
    "data = np.vstack((multNorm([2,2],[[0.1, 0], [0, 1]],100), multNorm([-2,-4],[[1, 0], [0, 0.3]],100)))\n",
    "# Look at the data.\n",
    "# plt.figure('Data')\n",
    "# plt.scatter(*zip(*data))\n",
    "\n",
    "# TODO: Apply k-means to the data.\n",
    "\n",
    "# Compute k-means with K = 2 (2 clusters).\n",
    "centroids, _ = kmeans(data,2)\n",
    "\n",
    "# Assign each sample to a cluster.\n",
    "idx, _ = vq(data, centroids)\n",
    "\n",
    "# Todo: Apply PCA for each cluster and store each two largest components.\n",
    "pcs = np.empty([np.unique(idx).size, 2, 2])\n",
    "for idxU in np.unique(idx):\n",
    "    pca = PCA(2)\n",
    "    pca.fit(data[idx==idxU])\n",
    "    pcs[idxU] = pca.components_\n",
    "\n",
    "# TODO: Plot the results of k-means and local PCA\n",
    "fig = plt.figure('Local PCA')\n",
    "ax = plt.gca()\n",
    "# make cluster centroids the same format as the PCs\n",
    "cls = np.tile(centroids[np.newaxis], (pcs.shape[0], 1, 1))\n",
    "\n",
    "# plot data, clusters, pPCs\n",
    "for i, idxU in enumerate(np.unique(idx)):\n",
    "    plt.plot(*zip(*data[idx==idxU]), 'o', alpha=0.4)\n",
    "    plt.quiver(*cls[:,i,:].T, *pcs[i,:,:].T, scale_units='xy', scale=0.7)\n",
    "\n",
    "ax.set_xlim(-5, 5)\n",
    "plt.plot(centroids[:,0], centroids[:,1], '*y', markeredgewidth=0.5, markersize=15)\n",
    "\n",
    "fig.canvas.draw()"
   ]
  },
  {
   "cell_type": "code",
   "execution_count": null,
   "metadata": {
    "collapsed": true
   },
   "outputs": [],
   "source": []
  }
 ],
 "metadata": {
  "kernelspec": {
   "display_name": "Python 3",
   "language": "python",
   "name": "python3"
  },
  "language_info": {
   "codemirror_mode": {
    "name": "ipython",
    "version": 3
   },
   "file_extension": ".py",
   "mimetype": "text/x-python",
   "name": "python",
   "nbconvert_exporter": "python",
   "pygments_lexer": "ipython3",
   "version": "3.5.1"
  }
 },
 "nbformat": 4,
 "nbformat_minor": 0
}
